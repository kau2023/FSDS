{
 "cells": [
  {
   "cell_type": "code",
   "execution_count": null,
   "id": "bfc595e9-0fa4-4e68-a4b3-8e72ea347912",
   "metadata": {},
   "outputs": [],
   "source": [
    "Q1. Create a list called years_list, starting with the year of your birth, and each year thereafter until\n",
    "the year of your fifth birthday. For example, if you were born in 1980. the list would be years_list =\n",
    "[1980, 1981, 1982, 1983, 1984, 1985].\n",
    "Sol:    "
   ]
  },
  {
   "cell_type": "code",
   "execution_count": 1,
   "id": "b6353bbd-eb8b-4b25-a37d-4ef817954e9a",
   "metadata": {},
   "outputs": [
    {
     "name": "stdout",
     "output_type": "stream",
     "text": [
      "[1984, 1985, 1986, 1987, 1988, 1989]\n"
     ]
    }
   ],
   "source": [
    "# replace the start_year and end_year with the appropriate values\n",
    "start_year = 1984\n",
    "end_year = 1989\n",
    "\n",
    "# create the years_list using range and list comprehension\n",
    "years_list = [year for year in range(start_year, end_year + 1)]\n",
    "\n",
    "# print the years_list\n",
    "print(years_list)"
   ]
  },
  {
   "cell_type": "code",
   "execution_count": null,
   "id": "69e5426c-b0b2-4e1d-aacf-c70ce7b93398",
   "metadata": {},
   "outputs": [],
   "source": [
    "Q2. In which year in years_list was your third birthday? Remember, you were 0 years of age for your\n",
    "first year.\n",
    "Sol:\n",
    "    "
   ]
  },
  {
   "cell_type": "code",
   "execution_count": 2,
   "id": "c7d9626d-a162-4804-a9d8-35f3af11e978",
   "metadata": {},
   "outputs": [
    {
     "name": "stdout",
     "output_type": "stream",
     "text": [
      "1986\n"
     ]
    }
   ],
   "source": [
    "# replace the birth_year with your actual birth year\n",
    "birth_year = 1984\n",
    "\n",
    "# calculate the year of your third birthday\n",
    "third_birthday_year = birth_year + 3\n",
    "\n",
    "# find the corresponding year in years_list\n",
    "year_of_third_birthday = years_list[third_birthday_year - birth_year - 1]\n",
    "\n",
    "# print the year of your third birthday\n",
    "print(year_of_third_birthday)\n"
   ]
  },
  {
   "cell_type": "code",
   "execution_count": null,
   "id": "f3a6a482-f215-43ce-8307-a4faf1a2c415",
   "metadata": {},
   "outputs": [],
   "source": [
    "Q3.In the years list, which year were you the oldest?\n",
    "Sol:"
   ]
  },
  {
   "cell_type": "code",
   "execution_count": 4,
   "id": "e8530ee9-8672-4dc6-a34a-268a0298f8c2",
   "metadata": {},
   "outputs": [
    {
     "name": "stdout",
     "output_type": "stream",
     "text": [
      "1989\n"
     ]
    }
   ],
   "source": [
    "# replace the start_year and end_year with the appropriate values\n",
    "start_year = 1984\n",
    "end_year = 1989\n",
    "\n",
    "# create the years_list using range and list comprehension\n",
    "years_list = [year for year in range(start_year, end_year + 1)]\n",
    "\n",
    "# calculate the year in which you were the oldest\n",
    "oldest_year = years_list[-1]\n",
    "\n",
    "# print the year in which you were the oldest\n",
    "print(oldest_year)"
   ]
  },
  {
   "cell_type": "markdown",
   "id": "efeb25c4-c126-4243-848c-8de07ca5d250",
   "metadata": {},
   "source": [
    "Q4. Make a list called things with these three strings as elements: &quot;mozzarella&quot;, &quot;cinderella&quot;,\n",
    "&quot;salmonella&quot;.\n",
    "Sol:\n",
    "    "
   ]
  },
  {
   "cell_type": "code",
   "execution_count": 5,
   "id": "e99a2721-69b3-4496-8ca1-6bc64b4652db",
   "metadata": {},
   "outputs": [
    {
     "name": "stdout",
     "output_type": "stream",
     "text": [
      "['mozzarella', 'cinderella', 'salmonella']\n"
     ]
    }
   ],
   "source": [
    "# create the things list\n",
    "things = [\"mozzarella\", \"cinderella\", \"salmonella\"]\n",
    "\n",
    "# print the things list\n",
    "print(things)"
   ]
  },
  {
   "cell_type": "markdown",
   "id": "176bbb64-9be0-4dce-89ce-c58c7a7f9cf3",
   "metadata": {},
   "source": [
    "Q5. Capitalize the element in things that refers to a person and then print the list. Did it change the\n",
    "element in the list?\n",
    "Sol:\n",
    "    "
   ]
  },
  {
   "cell_type": "code",
   "execution_count": 6,
   "id": "38a19645-f4ad-43c2-8caf-aa7eeebf8312",
   "metadata": {},
   "outputs": [
    {
     "name": "stdout",
     "output_type": "stream",
     "text": [
      "['mozzarella', 'Cinderella', 'salmonella']\n"
     ]
    }
   ],
   "source": [
    "# create the things list\n",
    "things = [\"mozzarella\", \"cinderella\", \"salmonella\"]\n",
    "\n",
    "# capitalize the second element\n",
    "things[1] = things[1].capitalize()\n",
    "\n",
    "# print the modified list\n",
    "print(things)\n"
   ]
  },
  {
   "cell_type": "code",
   "execution_count": null,
   "id": "2b24edbc-3496-4154-909b-7882a77be611",
   "metadata": {},
   "outputs": [],
   "source": [
    "6. Make a surprise list with the elements &quot;Groucho,&quot; &quot;Chico,&quot; and &quot;Harpo.&quot;\n",
    "Sol:    "
   ]
  },
  {
   "cell_type": "code",
   "execution_count": 7,
   "id": "296d4e9a-2cb4-4ecf-bb3a-f49ec9b174a6",
   "metadata": {},
   "outputs": [
    {
     "name": "stdout",
     "output_type": "stream",
     "text": [
      "['Groucho', 'Chico', 'Harpo']\n"
     ]
    }
   ],
   "source": [
    "# create the surprise list\n",
    "surprise = [\"Groucho\", \"Chico\", \"Harpo\"]\n",
    "\n",
    "# print the surprise list\n",
    "print(surprise)"
   ]
  },
  {
   "cell_type": "code",
   "execution_count": null,
   "id": "ee992b95-77d3-411a-ab1f-8301eb89e574",
   "metadata": {},
   "outputs": [],
   "source": [
    "Q7. Lowercase the last element of the surprise list, reverse it, and then capitalize it.\n",
    "Sol:"
   ]
  },
  {
   "cell_type": "code",
   "execution_count": 8,
   "id": "43e046c5-7578-41a1-9985-24cba2f94755",
   "metadata": {},
   "outputs": [
    {
     "name": "stdout",
     "output_type": "stream",
     "text": [
      "['Groucho', 'Chico', 'Oprah']\n"
     ]
    }
   ],
   "source": [
    "# create the surprise list\n",
    "surprise = [\"Groucho\", \"Chico\", \"Harpo\"]\n",
    "\n",
    "# get the last element of the list\n",
    "last_element = surprise[-1]\n",
    "\n",
    "# lowercase the last element, reverse it, and capitalize it\n",
    "new_last_element = last_element.lower()[::-1].capitalize()\n",
    "\n",
    "# replace the last element in the surprise list with the new element\n",
    "surprise[-1] = new_last_element\n",
    "\n",
    "# print the modified surprise list\n",
    "print(surprise)\n"
   ]
  },
  {
   "cell_type": "markdown",
   "id": "be024bd4-0915-465d-844d-19080e0167ef",
   "metadata": {},
   "source": [
    "Q8. Make an English-to-French dictionary called e2f and print it. Here are your starter words: dog is\n",
    "chien, cat is chat, and walrus is morse.\n",
    "Sol:"
   ]
  },
  {
   "cell_type": "code",
   "execution_count": 9,
   "id": "cfdf22f5-32d2-46b1-9001-f67bb407252c",
   "metadata": {},
   "outputs": [
    {
     "name": "stdout",
     "output_type": "stream",
     "text": [
      "{'dog': 'chien', 'cat': 'chat', 'walrus': 'morse'}\n"
     ]
    }
   ],
   "source": [
    "# create the e2f dictionary\n",
    "e2f = {\"dog\": \"chien\", \"cat\": \"chat\", \"walrus\": \"morse\"}\n",
    "\n",
    "# print the e2f dictionary\n",
    "print(e2f)"
   ]
  },
  {
   "cell_type": "code",
   "execution_count": null,
   "id": "5d3e32d5-3a19-4cf5-8a12-7d0ce8dd6d94",
   "metadata": {},
   "outputs": [],
   "source": [
    "Q9. Write the French word for walrus in your three-word dictionary e2f.\n",
    "Sol:"
   ]
  },
  {
   "cell_type": "code",
   "execution_count": 10,
   "id": "bc12c8a1-985e-4841-bd4f-297b6edeef34",
   "metadata": {},
   "outputs": [
    {
     "data": {
      "text/plain": [
       "'morse'"
      ]
     },
     "execution_count": 10,
     "metadata": {},
     "output_type": "execute_result"
    }
   ],
   "source": [
    "e2f[\"walrus\"]"
   ]
  },
  {
   "cell_type": "code",
   "execution_count": null,
   "id": "d3f5ade6-dd79-4d41-b98e-75da3aa2244c",
   "metadata": {},
   "outputs": [],
   "source": [
    "Q10. Make a French-to-English dictionary called f2e from e2f. Use the items method.\n",
    "Sol:"
   ]
  },
  {
   "cell_type": "code",
   "execution_count": 11,
   "id": "c93e8773-7f81-472c-856b-63d38925d54c",
   "metadata": {},
   "outputs": [
    {
     "name": "stdout",
     "output_type": "stream",
     "text": [
      "{'chien': 'dog', 'chat': 'cat', 'morse': 'walrus'}\n"
     ]
    }
   ],
   "source": [
    "f2e = {french: english for english, french in e2f.items()}\n",
    "\n",
    "# print the f2e dictionary\n",
    "print(f2e)"
   ]
  },
  {
   "cell_type": "code",
   "execution_count": null,
   "id": "780e37bc-8a58-4c2b-8886-9b80af588189",
   "metadata": {},
   "outputs": [],
   "source": [
    "Q11. Print the English version of the French word chien using f2e.\n",
    "Sol:\n",
    "    "
   ]
  },
  {
   "cell_type": "code",
   "execution_count": 12,
   "id": "ad0ab4f4-8450-45d6-9ff0-7699e8e7a767",
   "metadata": {},
   "outputs": [
    {
     "name": "stdout",
     "output_type": "stream",
     "text": [
      "dog\n"
     ]
    }
   ],
   "source": [
    "# create the e2f dictionary\n",
    "e2f = {\"dog\": \"chien\", \"cat\": \"chat\", \"walrus\": \"morse\"}\n",
    "\n",
    "# create the f2e dictionary by swapping keys and values in e2f\n",
    "f2e = {french: english for english, french in e2f.items()}\n",
    "\n",
    "# get the English word for \"chien\" from f2e\n",
    "english_word = f2e[\"chien\"]\n",
    "\n",
    "# print the English word for \"chien\"\n",
    "print(english_word)\n"
   ]
  },
  {
   "cell_type": "code",
   "execution_count": null,
   "id": "7ef4a1d1-5878-4494-818a-b08b5828b59a",
   "metadata": {},
   "outputs": [],
   "source": [
    "Q12. Make and print a set of English words from the keys in e2f.\n",
    "Sol:"
   ]
  },
  {
   "cell_type": "code",
   "execution_count": 16,
   "id": "7f861593-79bb-45b7-a79f-a72ef7f6ee61",
   "metadata": {},
   "outputs": [
    {
     "name": "stdout",
     "output_type": "stream",
     "text": [
      "{'dog', 'cat', 'walrus'}\n"
     ]
    }
   ],
   "source": [
    "englishset=set(e2f.keys())\n",
    "print(englishset)"
   ]
  },
  {
   "cell_type": "markdown",
   "id": "d86c22e9-ff70-4f38-b209-1637c1f09cdf",
   "metadata": {},
   "source": [
    "Q13. Make a multilevel dictionary called life. Use these strings for the topmost keys: &#39;animals&#39;, &#39;plants&#39;,\n",
    "and &#39;other&#39;. Make the &#39;animals&#39; key refer to another dictionary with the keys &#39;cats&#39;, &#39;octopi&#39;, and\n",
    "&#39;emus&#39;. Make the &#39;cats&#39; key refer to a list of strings with the values &#39;Henri&#39;, &#39;Grumpy&#39;, and &#39;Lucy&#39;.\n",
    "Make all the other keys refer to empty dictionaries.\n",
    "Sol:\n"
   ]
  },
  {
   "cell_type": "code",
   "execution_count": 17,
   "id": "47f53fc7-3e9b-4809-bd10-cdc12de8ef33",
   "metadata": {},
   "outputs": [
    {
     "name": "stdout",
     "output_type": "stream",
     "text": [
      "{'animals': {'cats': ['Henri', 'Grumpy', 'Lucy'], 'octopi': {}, 'emus': {}}, 'plants': {}, 'other': {}}\n"
     ]
    }
   ],
   "source": [
    "# create the life dictionary\n",
    "life = {\n",
    "    \"animals\": {\n",
    "        \"cats\": [\"Henri\", \"Grumpy\", \"Lucy\"],\n",
    "        \"octopi\": {},\n",
    "        \"emus\": {}\n",
    "    },\n",
    "    \"plants\": {},\n",
    "    \"other\": {}\n",
    "}\n",
    "\n",
    "# print the life dictionary\n",
    "print(life)\n"
   ]
  },
  {
   "cell_type": "code",
   "execution_count": null,
   "id": "404fb2a5-8621-45e6-8f73-9da2a24732b8",
   "metadata": {},
   "outputs": [],
   "source": [
    "Q14. Print the top-level keys of life.\n",
    "Sol:\n",
    "    "
   ]
  },
  {
   "cell_type": "code",
   "execution_count": 18,
   "id": "22310415-be06-4ce9-8029-4db15d0a9d98",
   "metadata": {},
   "outputs": [
    {
     "name": "stdout",
     "output_type": "stream",
     "text": [
      "dict_keys(['animals', 'plants', 'other'])\n"
     ]
    }
   ],
   "source": [
    "print(life.keys())"
   ]
  },
  {
   "cell_type": "markdown",
   "id": "10e77f12-b8f1-4898-b7be-63a7c8b6405f",
   "metadata": {},
   "source": [
    "Q15. Print the keys for life[&#39;animals&#39;].\n",
    "Sol:                            "
   ]
  },
  {
   "cell_type": "code",
   "execution_count": 20,
   "id": "c3b03482-bfa3-4385-ac11-79232f1fa4a9",
   "metadata": {},
   "outputs": [
    {
     "name": "stdout",
     "output_type": "stream",
     "text": [
      "dict_keys(['cats', 'octopi', 'emus'])\n"
     ]
    }
   ],
   "source": [
    "print(life['animals'].keys())"
   ]
  },
  {
   "cell_type": "markdown",
   "id": "a4ed5fb9-2f00-471e-8430-bb40e4d92675",
   "metadata": {},
   "source": [
    "Q16. Print the values for life[&#39;animals&#39;][&#39;cats&#39;]\n",
    "Sol:"
   ]
  },
  {
   "cell_type": "code",
   "execution_count": 23,
   "id": "adb02bb3-c5ca-4225-bc48-1e79333d11f8",
   "metadata": {},
   "outputs": [
    {
     "name": "stdout",
     "output_type": "stream",
     "text": [
      "['Henri', 'Grumpy', 'Lucy']\n"
     ]
    }
   ],
   "source": [
    "print(life['animals']['cats'])"
   ]
  }
 ],
 "metadata": {
  "kernelspec": {
   "display_name": "Python 3 (ipykernel)",
   "language": "python",
   "name": "python3"
  },
  "language_info": {
   "codemirror_mode": {
    "name": "ipython",
    "version": 3
   },
   "file_extension": ".py",
   "mimetype": "text/x-python",
   "name": "python",
   "nbconvert_exporter": "python",
   "pygments_lexer": "ipython3",
   "version": "3.10.6"
  }
 },
 "nbformat": 4,
 "nbformat_minor": 5
}
