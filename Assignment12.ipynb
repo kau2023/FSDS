{
 "cells": [
  {
   "cell_type": "markdown",
   "id": "9ca76895-61c2-4757-b2d6-105fa2b14857",
   "metadata": {},
   "source": [
    "Q1. In what modes should the PdfFileReader() and PdfFileWriter() File objects will be opened?\n",
    "Sol:\n",
    " When working with PDF files using the PyPDF2 library, the PdfFileReader() and PdfFileWriter() functions should be used to read and write PDF files, respectively.\n",
    "\n",
    "When creating an instance of PdfFileReader(), the file mode should be set to 'rb' (read binary). This is because PDF files are binary files, and the 'rb' mode allows the file to be read in binary mode.\n",
    "\n",
    "When creating an instance of PdfFileWriter(), the file mode should be set to 'wb' (write binary). This is because PyPDF2 needs to write binary data to create a PDF file.\n",
    "\n",
    "Here's an example of how to open a PDF file using PdfFileReader():\n"
   ]
  },
  {
   "cell_type": "code",
   "execution_count": null,
   "id": "d5183f3c-eabb-4df2-a3ca-716aedf419d5",
   "metadata": {},
   "outputs": [],
   "source": [
    "from PyPDF2 import PdfFileReader\n",
    "\n",
    "# Open the PDF file in read binary mode\n",
    "with open('example.pdf', 'rb') as pdf_file:\n",
    "    # Create a PdfFileReader object\n",
    "    pdf_reader = PdfFileReader(pdf_file)\n",
    "    # Do something with the PdfFileReader object"
   ]
  },
  {
   "cell_type": "code",
   "execution_count": null,
   "id": "d636f3de-3958-45a1-a401-9aade6738b4e",
   "metadata": {},
   "outputs": [],
   "source": [
    "And here's an example of how to create a new PDF file using PdfFileWriter():"
   ]
  },
  {
   "cell_type": "code",
   "execution_count": null,
   "id": "e592a070-630f-48f4-b8cb-e483e69a54bc",
   "metadata": {},
   "outputs": [],
   "source": [
    "from PyPDF2 import PdfFileWriter\n",
    "\n",
    "# Create a PdfFileWriter object\n",
    "pdf_writer = PdfFileWriter()\n",
    "\n",
    "# Add a new page to the PDF file\n",
    "pdf_writer.addBlankPage(width=200, height=300)\n",
    "\n",
    "# Open a new PDF file in write binary mode\n",
    "with open('new_file.pdf', 'wb') as pdf_file:\n",
    "    # Write the PDF data to the file\n",
    "    pdf_writer.write(pdf_file)"
   ]
  },
  {
   "cell_type": "markdown",
   "id": "9b059233-9853-4350-9a71-1d16f0d0efd4",
   "metadata": {},
   "source": [
    "Q2. From a PdfFileReader object, how do you get a Page object for page 5?\n",
    "Sol:\n",
    "   To get a Page object for a specific page number from a PdfFileReader object in PyPDF2, you can use the getPage() method and pass the page number as an argument (with a 0-based index). Here's an example to get a Page object for page 5:\n",
    "   "
   ]
  },
  {
   "cell_type": "code",
   "execution_count": null,
   "id": "753143b8-0383-4063-b441-42d4a64386f3",
   "metadata": {},
   "outputs": [],
   "source": [
    "from PyPDF2 import PdfFileReader\n",
    "\n",
    "# Open the PDF file in read binary mode\n",
    "with open('example.pdf', 'rb') as pdf_file:\n",
    "    # Create a PdfFileReader object\n",
    "    pdf_reader = PdfFileReader(pdf_file)\n",
    "\n",
    "    # Get the Page object for page 5\n",
    "    page_number = 4  # 0-based index, so page 5 is number 4\n",
    "    page = pdf_reader.getPage(page_number)\n",
    "\n",
    "    # Do something with the Page object\n"
   ]
  },
  {
   "cell_type": "markdown",
   "id": "4283ea00-73f6-4d76-8732-ee33aa583f09",
   "metadata": {},
   "source": [
    "Q3. What PdfFileReader variable stores the number of pages in the PDF document?\n",
    "Sol:\n",
    "    The PdfFileReader class in PyPDF2 provides a numPages variable that stores the number of pages in the PDF document. You can access this variable after creating a PdfFileReader object from a PDF file.\n",
    "\n",
    "Here's an example of how to get the number of pages in a PDF document:\n"
   ]
  },
  {
   "cell_type": "code",
   "execution_count": null,
   "id": "dec67fb2-6a6e-4ab4-8316-235162d7b877",
   "metadata": {},
   "outputs": [],
   "source": [
    "from PyPDF2 import PdfFileReader\n",
    "\n",
    "# Open the PDF file in read binary mode\n",
    "with open('example.pdf', 'rb') as pdf_file:\n",
    "    # Create a PdfFileReader object\n",
    "    pdf_reader = PdfFileReader(pdf_file)\n",
    "\n",
    "    # Get the number of pages in the PDF document\n",
    "    num_pages = pdf_reader.numPages\n",
    "\n",
    "    # Print the number of pages\n",
    "    print(f'The PDF document has {num_pages} pages.')\n"
   ]
  },
  {
   "cell_type": "markdown",
   "id": "dd8568ed-d9f3-476a-8301-ced0e0626cd2",
   "metadata": {},
   "source": [
    "Q4. If a PdfFileReader object’s PDF is encrypted with the password swordfish, what must you do\n",
    "before you can obtain Page objects from it?\n",
    "Sol:\n",
    "    If a PDF file is encrypted with a password, you need to decrypt it using the password before you can obtain Page objects from it using a PdfFileReader object in PyPDF2.\n",
    "\n",
    "To decrypt a password-protected PDF file, you can use the decrypt() method of the PdfFileReader object and pass the password as an argument. Here's an example of how to decrypt a PDF file before getting a Page object:"
   ]
  },
  {
   "cell_type": "code",
   "execution_count": null,
   "id": "0b58b154-4bda-44e7-93db-1353b8d6ad8e",
   "metadata": {},
   "outputs": [],
   "source": [
    "from PyPDF2 import PdfFileReader\n",
    "\n",
    "# Open the encrypted PDF file in read binary mode\n",
    "with open('example.pdf', 'rb') as pdf_file:\n",
    "    # Create a PdfFileReader object\n",
    "    pdf_reader = PdfFileReader(pdf_file)\n",
    "\n",
    "    # Decrypt the PDF file with the password \"swordfish\"\n",
    "    if pdf_reader.isEncrypted:\n",
    "        pdf_reader.decrypt('swordfish')\n",
    "\n",
    "    # Get the Page object for page 5\n",
    "    page_number = 4  # 0-based index, so page 5 is number 4\n",
    "    page = pdf_reader.getPage(page_number)\n",
    "\n",
    "    # Do something with the Page object\n"
   ]
  },
  {
   "cell_type": "markdown",
   "id": "bf335bcf-8239-45c9-87e8-cb6743379fda",
   "metadata": {},
   "source": [
    "Q5. What methods do you use to rotate a page?\n",
    "Sol:\n",
    "    To rotate a page in PyPDF2, you can use the rotateClockwise() and rotateCounterClockwise() methods of the Page object. Here's an example of how to rotate a page 90 degrees clockwise:\n",
    "    "
   ]
  },
  {
   "cell_type": "code",
   "execution_count": null,
   "id": "f4a523c1-43c2-4972-8c4f-483adbb1fef7",
   "metadata": {},
   "outputs": [],
   "source": [
    "from PyPDF2 import PdfFileReader, PdfFileWriter\n",
    "\n",
    "# Open the PDF file in read binary mode\n",
    "with open('example.pdf', 'rb') as pdf_file:\n",
    "    # Create a PdfFileReader object\n",
    "    pdf_reader = PdfFileReader(pdf_file)\n",
    "\n",
    "    # Get the Page object for page 1\n",
    "    page_number = 0  # 0-based index, so page 1 is number 0\n",
    "    page = pdf_reader.getPage(page_number)\n",
    "\n",
    "    # Rotate the page 90 degrees clockwise\n",
    "    page.rotateClockwise(90)\n",
    "\n",
    "    # Create a PdfFileWriter object and add the rotated page to it\n",
    "    pdf_writer = PdfFileWriter()\n",
    "    pdf_writer.addPage(page)\n",
    "\n",
    "    # Save the rotated page to a new PDF file\n",
    "    with open('rotated_page.pdf', 'wb') as output_file:\n",
    "        pdf_writer.write(output_file)\n"
   ]
  },
  {
   "cell_type": "markdown",
   "id": "16d85c9e-c157-4409-a439-cc58b65d191b",
   "metadata": {},
   "source": [
    "Q6. What is the difference between a Run object and a Paragraph object?\n",
    "Sol:\n",
    " In Python's python-docx library, a Paragraph object represents a single paragraph of text in a Word document, while a Run object represents a contiguous run of text within a paragraph that has a consistent set of character properties (such as font, size, color, boldness, etc.).\n",
    "\n",
    "Here's an example of how to create a Paragraph object with two Run objects in Python's python-docx library:   "
   ]
  },
  {
   "cell_type": "code",
   "execution_count": null,
   "id": "b69edc1a-66f6-4ffd-a320-a6ccedc8b514",
   "metadata": {},
   "outputs": [],
   "source": [
    "from docx import Document\n",
    "from docx.shared import Pt\n",
    "\n",
    "# Create a new Word document\n",
    "document = Document()\n",
    "\n",
    "# Add a new paragraph with two runs\n",
    "paragraph = document.add_paragraph()\n",
    "run1 = paragraph.add_run('This is the first run.')\n",
    "run1.font.size = Pt(12)\n",
    "run2 = paragraph.add_run('This is the second run.')\n",
    "run2.font.size = Pt(16)\n",
    "\n",
    "# Save the document\n",
    "document.save('example.docx')\n"
   ]
  },
  {
   "cell_type": "markdown",
   "id": "893c6f1e-6e76-41ff-b68f-6c80b16a4484",
   "metadata": {},
   "source": [
    "Q7. How do you obtain a list of Paragraph objects for a Document object that’s stored in a variable\n",
    "named doc?\n",
    "Sol:\n",
    "  To obtain a list of Paragraph objects for a Document object that's stored in a variable named doc in Python's python-docx library, you can use the paragraphs property of the Document object. Here's an example:\n",
    "  "
   ]
  },
  {
   "cell_type": "code",
   "execution_count": null,
   "id": "3c0efab6-7854-4fd2-9053-eae6eb7546ba",
   "metadata": {},
   "outputs": [],
   "source": [
    "from docx import Document\n",
    "\n",
    "# Load the Word document\n",
    "doc = Document('example.docx')\n",
    "\n",
    "# Get a list of paragraphs\n",
    "paragraphs = doc.paragraphs\n",
    "\n",
    "# Print the text of each paragraph\n",
    "for paragraph in paragraphs:\n",
    "    print(paragraph.text)\n"
   ]
  },
  {
   "cell_type": "markdown",
   "id": "1d683b57-1f4b-482f-94d6-421656104c98",
   "metadata": {},
   "source": [
    "Q8. What type of object has bold, underline, italic, strike, and outline variables?\n",
    "Sol:\n",
    "    In Python's python-docx library, the Font object has variables for bold, underline, italic, strike, and outline. The Font object is used to define the character formatting properties of a Run object or a part of a Paragraph object.\n",
    "\n",
    "Here's an example of how to use the Font object to apply bold, underline, and italic formatting to a Run object:"
   ]
  },
  {
   "cell_type": "code",
   "execution_count": null,
   "id": "31269a84-4209-411c-8a42-5e61ebd9c3fa",
   "metadata": {},
   "outputs": [],
   "source": [
    "from docx import Document\n",
    "from docx.shared import Pt\n",
    "\n",
    "# Create a new Word document\n",
    "document = Document()\n",
    "\n",
    "# Add a new paragraph with a bold, underlined, and italicized run\n",
    "paragraph = document.add_paragraph()\n",
    "run = paragraph.add_run('This is a bold, underlined, and italicized run of text.')\n",
    "font = run.font\n",
    "font.bold = True\n",
    "font.underline = True\n",
    "font.italic = True\n",
    "font.size = Pt(12)\n",
    "\n",
    "# Save the document\n",
    "document.save('example.docx')\n"
   ]
  },
  {
   "cell_type": "markdown",
   "id": "21596eee-b419-43ce-a6ae-11c966cfb9f4",
   "metadata": {},
   "source": [
    "Q9. What is the difference between False, True, and None for the bold variable?\n",
    "Sol:\n",
    "  In Python's python-docx library, the bold variable of the Font object is used to specify whether or not the text should be formatted as bold.\n",
    "\n",
    "Here's the difference between False, True, and None for the bold variable:\n",
    "\n",
    "False: The text is not formatted as bold.\n",
    "True: The text is formatted as bold.\n",
    "None: The default value. If no value is explicitly set for the bold variable, it defaults to None, which means that the text is formatted as bold if the default style of the font is bold.\n",
    "Here's an example that demonstrates the use of the bold variable:  "
   ]
  },
  {
   "cell_type": "code",
   "execution_count": null,
   "id": "66828348-4649-483e-b964-1966e955548e",
   "metadata": {},
   "outputs": [],
   "source": [
    "from docx import Document\n",
    "from docx.shared import Pt\n",
    "\n",
    "# Create a new Word document\n",
    "document = Document()\n",
    "\n",
    "# Add a new paragraph with a bold and non-bold run\n",
    "paragraph = document.add_paragraph()\n",
    "run1 = paragraph.add_run('This is bold text.')\n",
    "font1 = run1.font\n",
    "font1.bold = True\n",
    "font1.size = Pt(12)\n",
    "run2 = paragraph.add_run('This is not bold text.')\n",
    "font2 = run2.font\n",
    "font2.bold = False\n",
    "font2.size = Pt(12)\n",
    "\n",
    "# Save the document\n",
    "document.save('example.docx')\n"
   ]
  },
  {
   "cell_type": "markdown",
   "id": "0a49fbe7-d4f5-4223-b9b9-ac1776a9b288",
   "metadata": {},
   "source": [
    "10. How do you create a Document object for a new Word document?\n",
    "Sol:\n",
    "\n",
    "In Python's python-docx library, you can create a new Document object for a new Word document using the Document() constructor. Here's an example:"
   ]
  },
  {
   "cell_type": "code",
   "execution_count": null,
   "id": "761fb1b5-c3c8-4b01-afb4-0e59ed718ad7",
   "metadata": {},
   "outputs": [],
   "source": [
    "from docx import Document\n",
    "\n",
    "# Create a new Word document\n",
    "document = Document()\n",
    "\n",
    "# Add content to the document\n",
    "document.add_heading('Document Title', level=1)\n",
    "document.add_paragraph('This is the first paragraph of the document.')\n",
    "\n",
    "# Save the document\n",
    "document.save('example.docx')\n"
   ]
  },
  {
   "cell_type": "markdown",
   "id": "728d2d8b-43be-4c06-9fbd-027d8d984c28",
   "metadata": {},
   "source": [
    "In this example, we created a new Word document using the Document() constructor. We then added a heading and a paragraph to the document using the add_heading() and add_paragraph() methods of the Document object. Finally, we saved the document to a file named example.docx using the save() method of the Document object."
   ]
  },
  {
   "cell_type": "markdown",
   "id": "e68e3897-8592-45b1-8954-514c3a4d72df",
   "metadata": {},
   "source": [
    "Q11. How do you add a paragraph with the text &#39;Hello, there!&#39; to a Document object stored in a\n",
    "variable named doc?\n",
    "Sol:\n",
    "    In Python's python-docx library, you can add a paragraph with the text 'Hello, there!' to a Document object stored in a variable named doc using the add_paragraph() method of the Document object. Here's an example:"
   ]
  },
  {
   "cell_type": "code",
   "execution_count": null,
   "id": "5a7fa586-4e6f-40d5-9773-feaa077ddeed",
   "metadata": {},
   "outputs": [],
   "source": [
    "from docx import Document\n",
    "\n",
    "# Create a new Word document\n",
    "doc = Document()\n",
    "\n",
    "# Add a new paragraph with the text 'Hello, there!'\n",
    "paragraph = doc.add_paragraph('Hello, there!')\n",
    "\n",
    "# Save the document\n",
    "doc.save('example.docx')\n",
    "\n"
   ]
  },
  {
   "cell_type": "markdown",
   "id": "decc834e-961d-48a1-a10b-bc372f6e3ca3",
   "metadata": {},
   "source": [
    "Q12. What integers represent the levels of headings available in Word documents?\n",
    "Sol:\n",
    "    In Microsoft Word, there are nine levels of headings available, each of which is assigned a unique integer value:\n",
    "\n",
    "Level 1: 0\n",
    "Level 2: 1\n",
    "Level 3: 2\n",
    "Level 4: 3\n",
    "Level 5: 4\n",
    "Level 6: 5\n",
    "Level 7: 6\n",
    "Level 8: 7\n",
    "Level 9: 8\n",
    "In Python's python-docx library, you can use these integer values to specify the level of a heading when using the add_heading() method of a Document object. For example:"
   ]
  },
  {
   "cell_type": "code",
   "execution_count": null,
   "id": "f0311534-5d17-4c35-a185-8b653def782a",
   "metadata": {},
   "outputs": [],
   "source": [
    "from docx import Document\n",
    "\n",
    "# Create a new Word document\n",
    "doc = Document()\n",
    "\n",
    "# Add a level 1 heading\n",
    "doc.add_heading('Level 1 Heading', level=0)\n",
    "\n",
    "# Add a level 2 heading\n",
    "doc.add_heading('Level 2 Heading', level=1)\n",
    "\n",
    "# Add a level 3 heading\n",
    "doc.add_heading('Level 3 Heading', level=2)\n",
    "\n",
    "# Save the document\n",
    "doc.save('example.docx')\n"
   ]
  }
 ],
 "metadata": {
  "kernelspec": {
   "display_name": "Python 3 (ipykernel)",
   "language": "python",
   "name": "python3"
  },
  "language_info": {
   "codemirror_mode": {
    "name": "ipython",
    "version": 3
   },
   "file_extension": ".py",
   "mimetype": "text/x-python",
   "name": "python",
   "nbconvert_exporter": "python",
   "pygments_lexer": "ipython3",
   "version": "3.10.6"
  }
 },
 "nbformat": 4,
 "nbformat_minor": 5
}
