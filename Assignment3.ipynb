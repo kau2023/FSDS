{
 "cells": [
  {
   "cell_type": "markdown",
   "id": "c139ca9a",
   "metadata": {},
   "source": [
    "1. Why are functions advantageous to have in your programs?\n",
    "Sol:Functions helps to reduce the lenght of the code. It eliminates redundancy and hence reducing the program size \n",
    "    making it more readable and easier to update\n",
    "2. When does the code in a function run:when it's specified or when it's called?\n",
    "    Sol: When the function is called\n",
    "3. What statement creates a function?\n",
    "Sol: def creates a function\n",
    "ex. def myfun():\n",
    "creates a function myfun()\n",
    "4. What is the difference between a function and a function call?\n",
    "Sol:\n",
    "A function consists of the name of the function and its definition. A function call calls the function which has been created to perform some action.\n",
    "5.How many global scopes are there in a Python program? How many local scopes?\n",
    "Sol: There is only 1 global scope per program execution  while local scope is limited within a function or a block of code.\n",
    "6. What happens to variables in a local scope when the function call returns?\n",
    "Sol: The values in the variables are lost\n",
    "7. What is the concept of a return value? Is it possible to have a return value in an expression?\n",
    "Sol: Return value is the value which a function evaluates. It is possible have a return value in an expression.\n",
    "8.If a function does not have a return statement, what is the return value of a call to that function?\n",
    "Sol: Nothing\n",
    "9. How do you make a function variable refer to the global variable?\n",
    "Sol:It can be referred directly.\n",
    "10.What is the data type of None?\n",
    "Sol:NoneType\n",
    "11. What does the sentence import areallyourpetsnamederic do?\n",
    "Sol:It imports a user defined module named areallyourpetsnamederic\n",
    "12.If you had a bacon() feature in a spam module, what would you call it after importing spam?\n",
    "Sol: import spam\n",
    "     spam.bacon()\n",
    "13.What can you do to save a programme from crashing if it encounters an error?\n",
    "Sol: Write the code in try and except block\n",
    "14.What is the purpose of the try clause? What is the purpose of the except clause?\n",
    "Sol: try will check any runtime errors in the code while except will handle all the errors and prevent the program from crashing\n"
   ]
  }
 ],
 "metadata": {
  "kernelspec": {
   "display_name": "Python 3 (ipykernel)",
   "language": "python",
   "name": "python3"
  },
  "language_info": {
   "codemirror_mode": {
    "name": "ipython",
    "version": 3
   },
   "file_extension": ".py",
   "mimetype": "text/x-python",
   "name": "python",
   "nbconvert_exporter": "python",
   "pygments_lexer": "ipython3",
   "version": "3.7.11"
  }
 },
 "nbformat": 4,
 "nbformat_minor": 5
}
