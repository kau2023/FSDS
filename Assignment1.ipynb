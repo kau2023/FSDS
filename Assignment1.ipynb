{
 "cells": [
  {
   "cell_type": "markdown",
   "id": "88bf6897",
   "metadata": {},
   "source": [
    "Assignment 1\n",
    "1. In the below elements which of them are values or an expression? eg:- values can be integer or string and expressions will be mathematical operators.\n",
    "Sol:* =operator\n",
    "'hello'=expression\n",
    "-87.8=value\n",
    "- =operator\n",
    "/ =operator\n",
    "+\t=operator\n",
    "6 =value\n",
    "\n",
    "2. What is the difference between string and variable?\n",
    "Sol:String is an array of characters. It is an inbuilt data type in python. Whereas varables are containers which contain certain type of values.For ex. x=10, y=”abc”. Here x and y are variables while “abc” is a string.\n",
    "3. Describe three different data types.\n",
    "Sol:The three data types defined in Python are :\n",
    "a.\tNumeric datatype:-int,float \n",
    "b.\tText type:str\n",
    "c.\tBoolean type:bool\n",
    "4.\tWhat is an expression made up of? What do all expressions do?\t\n",
    "Sol: Expressions are made up of operators, variables and values. Expression are evaluated to produce a result\n",
    "5.\tThis assignment statements, like spam = 10. What is the difference between an expression and a statement?\n",
    "Sol: Statements are some actions or commands which does some work.For. ex. print, if,else etc. are statements whereas expressions are evaluated to produce a result. \n",
    "For ex. x=a+b\n"
   ]
  },
  {
   "cell_type": "markdown",
   "id": "bac13555",
   "metadata": {},
   "source": [
    "6. After running the following code, what does the variable bacon contain?\n"
   ]
  },
  {
   "cell_type": "code",
   "execution_count": 1,
   "id": "ea27f906",
   "metadata": {
    "scrolled": true
   },
   "outputs": [
    {
     "name": "stdout",
     "output_type": "stream",
     "text": [
      "22\n"
     ]
    }
   ],
   "source": [
    "bacon = 22\n",
    "bacon + 1\n",
    "print(bacon)"
   ]
  },
  {
   "cell_type": "code",
   "execution_count": null,
   "id": "803b77e6",
   "metadata": {},
   "outputs": [],
   "source": [
    "7. What should the values of the following two terms be?"
   ]
  },
  {
   "cell_type": "code",
   "execution_count": 3,
   "id": "f6ff952b",
   "metadata": {
    "scrolled": true
   },
   "outputs": [
    {
     "name": "stdout",
     "output_type": "stream",
     "text": [
      "spamspamspam\n",
      "spamspamspam\n"
     ]
    }
   ],
   "source": [
    "print('spam' + 'spamspam')\n",
    "print('spam' * 3)\n",
    "\n"
   ]
  },
  {
   "cell_type": "code",
   "execution_count": null,
   "id": "4f252afd",
   "metadata": {},
   "outputs": [],
   "source": [
    "8. Why is eggs a valid variable name while 100 is invalid?\n",
    "Sol: In Python a variable name cannot start with a numeric value. So egg is a valid variable name and 100 is a invalid. "
   ]
  },
  {
   "cell_type": "code",
   "execution_count": null,
   "id": "d9b71e83",
   "metadata": {},
   "outputs": [],
   "source": [
    "What three functions can be used to get the integer, floating-point number, or string version of a value?\n",
    "Sol:int() is used to get integer value\n",
    "    float() is used to get float value\n",
    "    string() is used to get string value"
   ]
  },
  {
   "cell_type": "code",
   "execution_count": null,
   "id": "ea92b669",
   "metadata": {},
   "outputs": [],
   "source": [
    "Why does this expression cause an error? How can you fix it?\n",
    "'I have eaten ' + 99 + ' burritos.'\n",
    "Sol:\n",
    "    It gives error because we cannot concatenate string with integer value."
   ]
  }
 ],
 "metadata": {
  "kernelspec": {
   "display_name": "Python 3 (ipykernel)",
   "language": "python",
   "name": "python3"
  },
  "language_info": {
   "codemirror_mode": {
    "name": "ipython",
    "version": 3
   },
   "file_extension": ".py",
   "mimetype": "text/x-python",
   "name": "python",
   "nbconvert_exporter": "python",
   "pygments_lexer": "ipython3",
   "version": "3.7.11"
  }
 },
 "nbformat": 4,
 "nbformat_minor": 5
}
