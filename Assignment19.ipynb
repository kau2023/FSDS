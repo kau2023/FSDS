{
 "cells": [
  {
   "cell_type": "code",
   "execution_count": null,
   "id": "d1c73340-c4e0-4f58-970f-74ca7d1013e9",
   "metadata": {},
   "outputs": [],
   "source": [
    "Q1. Make a class called Thing with no contents and print it. Then, create an object called example\n",
    "from this class and also print it. Are the printed values the same or different?\n",
    "Sol:"
   ]
  },
  {
   "cell_type": "code",
   "execution_count": 1,
   "id": "7fabe47d-af46-4a5e-acb0-71302a5f392b",
   "metadata": {},
   "outputs": [
    {
     "name": "stdout",
     "output_type": "stream",
     "text": [
      "<class '__main__.Thing'>\n",
      "<__main__.Thing object at 0x7fb2ad1e7940>\n"
     ]
    }
   ],
   "source": [
    "class Thing:\n",
    "    pass\n",
    "print(Thing)\n",
    "example=Thing()\n",
    "print(example)"
   ]
  },
  {
   "cell_type": "code",
   "execution_count": null,
   "id": "ab58a391-e06b-458d-927e-2d515cc46207",
   "metadata": {},
   "outputs": [],
   "source": [
    "Q2. Create a new class called Thing2 and add the value &#39;abc&#39; to the letters class attribute. Letters\n",
    "should be printed.\n",
    "Sol:    "
   ]
  },
  {
   "cell_type": "code",
   "execution_count": 2,
   "id": "ba9b6542-e7b4-48ec-b993-4d76919d5615",
   "metadata": {},
   "outputs": [
    {
     "name": "stdout",
     "output_type": "stream",
     "text": [
      "abc\n"
     ]
    }
   ],
   "source": [
    "class Thing2:\n",
    "    letters=\"abc\"\n",
    "\n",
    "print(Thing2.letters)"
   ]
  },
  {
   "cell_type": "code",
   "execution_count": null,
   "id": "9bfcf7de-bde1-4989-a680-d69c392ae187",
   "metadata": {},
   "outputs": [],
   "source": [
    "Q3. Make yet another class called, of course, Thing3. This time, assign the value &#39;xyz&#39; to an instance\n",
    "(object) attribute called letters. Print letters. Do you need to make an object from the class to do\n",
    "this?\n",
    "Sol:"
   ]
  },
  {
   "cell_type": "code",
   "execution_count": 5,
   "id": "ca04f031-b8e2-4dcf-acb1-a4600a52736e",
   "metadata": {},
   "outputs": [
    {
     "data": {
      "text/plain": [
       "'abc'"
      ]
     },
     "execution_count": 5,
     "metadata": {},
     "output_type": "execute_result"
    }
   ],
   "source": [
    "class Thing3:\n",
    "    def __init__(self):\n",
    "        self.letters=\"abc\"\n",
    "example=Thing3()\n",
    "\n",
    "example.letters"
   ]
  },
  {
   "cell_type": "code",
   "execution_count": null,
   "id": "214e932d-ceb5-4b90-918c-f269ab32d3b9",
   "metadata": {},
   "outputs": [],
   "source": [
    "Q4. Create an Element class with the instance attributes name, symbol, and number. Create a class\n",
    "object with the values &#39;Hydrogen,&#39; &#39;H,&#39; and 1.\n",
    "Sol:    "
   ]
  },
  {
   "cell_type": "code",
   "execution_count": 7,
   "id": "36a60b5c-1636-4fb5-8344-09cb39ae9b14",
   "metadata": {},
   "outputs": [
    {
     "name": "stdout",
     "output_type": "stream",
     "text": [
      "Hydrogen H 1\n"
     ]
    }
   ],
   "source": [
    "class Element():\n",
    "    def __init__(self,name,symbol,number):\n",
    "        self.name=name\n",
    "        self.symbol=symbol\n",
    "        self.number=number\n",
    "hydrogen=Element(\"Hydrogen\",\"H\",1)\n",
    "\n",
    "print(hydrogen.name,hydrogen.symbol,hydrogen.number)        "
   ]
  },
  {
   "cell_type": "markdown",
   "id": "bf03d50b-89d4-44b6-9443-f657ee96a030",
   "metadata": {},
   "source": [
    "Q5. Make a dictionary with these keys and values: &#39;name&#39;: &#39;Hydrogen&#39;, &#39;symbol&#39;: &#39;H&#39;, &#39;number&#39;: 1. Then,\n",
    "create an object called hydrogen from class Element using this dictionary.\n",
    "Sol:"
   ]
  },
  {
   "cell_type": "code",
   "execution_count": 8,
   "id": "6bf46acb-b5ce-4707-966c-e230c6baa9cf",
   "metadata": {},
   "outputs": [
    {
     "name": "stdout",
     "output_type": "stream",
     "text": [
      "Hydrogen\n",
      "H\n",
      "1\n"
     ]
    }
   ],
   "source": [
    "element_dict = {'name': 'Hydrogen', 'symbol': 'H', 'number': 1}\n",
    "hydrogen = Element(**element_dict)\n",
    "print(hydrogen.name)\n",
    "print(hydrogen.symbol)\n",
    "print(hydrogen.number)\n"
   ]
  },
  {
   "cell_type": "code",
   "execution_count": null,
   "id": "34401634-eeef-4738-a42b-f09a3f53a14e",
   "metadata": {},
   "outputs": [],
   "source": [
    "6. For the Element class, define a method called dump() that prints the values of the object’s\n",
    "attributes (name, symbol, and number). Create the hydrogen object from this new definition and\n",
    "use dump() to print its attributes.\n",
    "Sol:"
   ]
  },
  {
   "cell_type": "code",
   "execution_count": 9,
   "id": "ded36b5a-c0bb-4d7c-aa3d-c6f4c08f3aa1",
   "metadata": {},
   "outputs": [
    {
     "name": "stdout",
     "output_type": "stream",
     "text": [
      "name: Hydrogen, symbol: H, number: 1\n"
     ]
    }
   ],
   "source": [
    "class Element:\n",
    "    def __init__(self, name, symbol, number):\n",
    "        self.name = name\n",
    "        self.symbol = symbol\n",
    "        self.number = number\n",
    "    \n",
    "    def dump(self):\n",
    "        print(f'name: {self.name}, symbol: {self.symbol}, number: {self.number}')\n",
    "\n",
    "hydrogen = Element('Hydrogen', 'H', 1)\n",
    "hydrogen.dump()\n"
   ]
  },
  {
   "cell_type": "markdown",
   "id": "2c5321ed-9082-4edc-88c6-e74232c09ba2",
   "metadata": {},
   "source": [
    "7. Call print(hydrogen). In the definition of Element, change the name of method dump to __str__,\n",
    "create a new hydrogen object, and call print(hydrogen) again.\n",
    "Sol:"
   ]
  },
  {
   "cell_type": "code",
   "execution_count": 11,
   "id": "b7719f0d-c607-4766-a3f4-5f14d4f6549f",
   "metadata": {},
   "outputs": [
    {
     "name": "stdout",
     "output_type": "stream",
     "text": [
      "name: Hydrogen, symbol: H, number: 1\n",
      "name: New Hydrogen, symbol: NH, number: 2\n"
     ]
    }
   ],
   "source": [
    "class Element:\n",
    "    def __init__(self, name, symbol, number):\n",
    "        self.name = name\n",
    "        self.symbol = symbol\n",
    "        self.number = number\n",
    "    \n",
    "    def __str__(self):\n",
    "        return f'name: {self.name}, symbol: {self.symbol}, number: {self.number}'\n",
    "\n",
    "hydrogen = Element('Hydrogen', 'H', 1)\n",
    "print(hydrogen)\n",
    "\n",
    "new_hydrogen = Element('New Hydrogen', 'NH', 2)\n",
    "print(new_hydrogen)"
   ]
  },
  {
   "cell_type": "code",
   "execution_count": null,
   "id": "0a5f7f4b-d3c2-4264-a7a3-fd01cadbbc5e",
   "metadata": {},
   "outputs": [],
   "source": [
    "Q8. Modify Element to make the attributes name, symbol, and number private. Define a getter\n",
    "property for each to return its value.\n",
    "Sol:"
   ]
  },
  {
   "cell_type": "code",
   "execution_count": 12,
   "id": "ce8dc28c-f9e9-42c8-b481-5aa54e2ae503",
   "metadata": {},
   "outputs": [
    {
     "name": "stdout",
     "output_type": "stream",
     "text": [
      "Hydrogen\n",
      "H\n",
      "1\n"
     ]
    }
   ],
   "source": [
    "class Element:\n",
    "    def __init__(self, name, symbol, number):\n",
    "        self.__name = name\n",
    "        self.__symbol = symbol\n",
    "        self.__number = number\n",
    "    \n",
    "    @property\n",
    "    def name(self):\n",
    "        return self.__name\n",
    "    \n",
    "    @property\n",
    "    def symbol(self):\n",
    "        return self.__symbol\n",
    "    \n",
    "    @property\n",
    "    def number(self):\n",
    "        return self.__number\n",
    "\n",
    "hydrogen = Element('Hydrogen', 'H', 1)\n",
    "print(hydrogen.name)    # Output: Hydrogen\n",
    "print(hydrogen.symbol)  # Output: H\n",
    "print(hydrogen.number)  # Output: 1\n"
   ]
  },
  {
   "cell_type": "markdown",
   "id": "35960f71-ae45-40d1-a2d9-d848950b5f12",
   "metadata": {},
   "source": [
    "Q9. Define three classes: Bear, Rabbit, and Octothorpe. For each, define only one method: eats(). This\n",
    "should return &#39;berries&#39; (Bear), &#39;clover&#39; (Rabbit), or &#39;campers&#39; (Octothorpe). Create one object from\n",
    "each and print what it eats.\n",
    "Sol:"
   ]
  },
  {
   "cell_type": "code",
   "execution_count": 13,
   "id": "26a6a817-e313-4dae-859c-f2487df20de7",
   "metadata": {},
   "outputs": [
    {
     "name": "stdout",
     "output_type": "stream",
     "text": [
      "Bear eats berries\n",
      "Rabbit eats clover\n",
      "Octothorpe eats campers\n"
     ]
    }
   ],
   "source": [
    "class Bear:\n",
    "    def eats(self):\n",
    "        return 'berries'\n",
    "        \n",
    "class Rabbit:\n",
    "    def eats(self):\n",
    "        return 'clover'\n",
    "        \n",
    "class Octothorpe:\n",
    "    def eats(self):\n",
    "        return 'campers'\n",
    "\n",
    "bear = Bear()\n",
    "rabbit = Rabbit()\n",
    "octothorpe = Octothorpe()\n",
    "\n",
    "print(\"Bear eats\", bear.eats())\n",
    "print(\"Rabbit eats\", rabbit.eats())\n",
    "print(\"Octothorpe eats\", octothorpe.eats())\n"
   ]
  },
  {
   "cell_type": "markdown",
   "id": "98424ebc-e67f-4337-9b1f-5a061a40c71b",
   "metadata": {},
   "source": [
    "Q10. Define these classes: Laser, Claw, and SmartPhone. Each has only one method: does(). This\n",
    "returns &#39;disintegrate&#39; (Laser), &#39;crush&#39; (Claw), or &#39;ring&#39; (SmartPhone). Then, define the class Robot that\n",
    "has one instance (object) of each of these. Define a does() method for the Robot that prints what its\n",
    "component objects do.\n",
    "Sol:"
   ]
  },
  {
   "cell_type": "code",
   "execution_count": null,
   "id": "c3daa7b6-9cca-4588-8986-57362c96f10b",
   "metadata": {},
   "outputs": [],
   "source": []
  }
 ],
 "metadata": {
  "kernelspec": {
   "display_name": "Python 3 (ipykernel)",
   "language": "python",
   "name": "python3"
  },
  "language_info": {
   "codemirror_mode": {
    "name": "ipython",
    "version": 3
   },
   "file_extension": ".py",
   "mimetype": "text/x-python",
   "name": "python",
   "nbconvert_exporter": "python",
   "pygments_lexer": "ipython3",
   "version": "3.10.6"
  }
 },
 "nbformat": 4,
 "nbformat_minor": 5
}
