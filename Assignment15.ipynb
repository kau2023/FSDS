{
 "cells": [
  {
   "cell_type": "markdown",
   "id": "a2daba73-a569-4b90-9196-49bb3691a9e8",
   "metadata": {},
   "source": [
    "Q1.How many seconds are in an hour? Use the interactive interpreter as a calculator and multiply the\n",
    "number of seconds in a minute (60) by the number of minutes in an hour (also 60).\n",
    "Sol:\n",
    "    To calculate the number of seconds in an hour, you can multiply the number of seconds in a minute (60) by the number of minutes in an hour (also 60) using the Python interpreter as a calculator.\n",
    "\n",
    "Here's the calculation:"
   ]
  },
  {
   "cell_type": "code",
   "execution_count": 1,
   "id": "05b2f69e-a73a-4ff8-a93f-4f888d2a78e8",
   "metadata": {},
   "outputs": [
    {
     "data": {
      "text/plain": [
       "3600"
      ]
     },
     "execution_count": 1,
     "metadata": {},
     "output_type": "execute_result"
    }
   ],
   "source": [
    "60 * 60"
   ]
  },
  {
   "cell_type": "markdown",
   "id": "3346fbaf-832b-4717-ba28-34316bf7bf4c",
   "metadata": {},
   "source": [
    "Q2. Assign the result from the previous task (seconds in an hour) to a variable called\n",
    "seconds_per_hour.\n",
    "Sol:\n",
    "    To assign the result from the previous task (seconds in an hour) to a variable called seconds_per_hour, you can use the assignment operator \"=\" and the result of the previous calculation, which was 3600:\n",
    "    "
   ]
  },
  {
   "cell_type": "code",
   "execution_count": 2,
   "id": "e521d1f6-10dd-4696-9508-8d78eeb9b9c0",
   "metadata": {},
   "outputs": [],
   "source": [
    "seconds_per_hour = 3600"
   ]
  },
  {
   "cell_type": "markdown",
   "id": "6de6608d-edbf-4549-a77b-a8c0b870d853",
   "metadata": {},
   "source": [
    "Q3. How many seconds do you think there are in a day? Make use of the variables seconds per hour\n",
    "and minutes per hour.\n",
    "Sol:\n",
    "    To calculate the number of seconds in a day, we can multiply the number of seconds in an hour by the number of hours in a day. Since there are 24 hours in a day, we can multiply 24 by the number of seconds per hour, which we assigned to the variable seconds_per_hour in the previous task.\n",
    "\n",
    "So, the calculation would be:"
   ]
  },
  {
   "cell_type": "code",
   "execution_count": 4,
   "id": "8ddf3d39-734e-4622-b38e-8fab6dddae79",
   "metadata": {},
   "outputs": [
    {
     "data": {
      "text/plain": [
       "86400"
      ]
     },
     "execution_count": 4,
     "metadata": {},
     "output_type": "execute_result"
    }
   ],
   "source": [
    "seconds_per_day = seconds_per_hour * 24\n",
    "seconds_per_day"
   ]
  },
  {
   "cell_type": "markdown",
   "id": "80018a7f-55b2-4cc3-b2fc-2dc52739ec38",
   "metadata": {},
   "source": [
    "Q4. Calculate seconds per day again, but this time save the result in a variable called seconds_per_day\n",
    "Sol:\n",
    "Here's how you can calculate the number of seconds in a day and save the result in a variable called seconds_per_day:"
   ]
  },
  {
   "cell_type": "code",
   "execution_count": null,
   "id": "0978c766-d814-42bc-9eea-f2900a3b2526",
   "metadata": {},
   "outputs": [],
   "source": [
    "seconds_per_day = seconds_per_hour * 24"
   ]
  },
  {
   "cell_type": "markdown",
   "id": "411cb8d1-de1d-470a-b603-56e6c16385b6",
   "metadata": {},
   "source": [
    "Q5. Divide seconds_per_day by seconds_per_hour. Use floating-point (/) division.\n",
    "Sol:\n",
    "    To divide seconds_per_day by seconds_per_hour using floating-point division, you can simply use the / operator as follows:"
   ]
  },
  {
   "cell_type": "code",
   "execution_count": 5,
   "id": "6484cf9a-c1b0-4c1e-8f45-16f227ae8986",
   "metadata": {},
   "outputs": [
    {
     "data": {
      "text/plain": [
       "24.0"
      ]
     },
     "execution_count": 5,
     "metadata": {},
     "output_type": "execute_result"
    }
   ],
   "source": [
    "seconds_per_day / seconds_per_hour"
   ]
  },
  {
   "cell_type": "markdown",
   "id": "d1de31ab-4ee3-4bd4-bb47-79673f3154e7",
   "metadata": {},
   "source": [
    "Q6. Divide seconds_per_day by seconds_per_hour, using integer (//) division. Did this number agree\n",
    "with the floating-point value from the previous question, aside from the final .0?\n",
    "Sol:\n",
    "    To divide seconds_per_day by seconds_per_hour using integer division (//), you can use the following code:"
   ]
  },
  {
   "cell_type": "code",
   "execution_count": 6,
   "id": "1f6e2e57-4f20-428c-9e0a-38282e96ae79",
   "metadata": {},
   "outputs": [
    {
     "data": {
      "text/plain": [
       "24"
      ]
     },
     "execution_count": 6,
     "metadata": {},
     "output_type": "execute_result"
    }
   ],
   "source": [
    "seconds_per_day // seconds_per_hour"
   ]
  },
  {
   "cell_type": "markdown",
   "id": "e5e12fff-d9f8-4395-8b9e-b71a099d57b4",
   "metadata": {},
   "source": [
    "This is the same as the floating-point value from the previous question, but without the decimal point. The reason for this is that integer division always returns a whole number, discarding any fractional part. In this case, the division resulted in a whole number, which was 24."
   ]
  },
  {
   "cell_type": "markdown",
   "id": "ba3e3843-e8cb-4267-a361-e0612d9ad64c",
   "metadata": {},
   "source": [
    "Q7. Write a generator, genPrimes, that returns the sequence of prime numbers on successive calls to\n",
    "its next() method: 2, 3, 5, 7, 11, ...\n",
    "Sol:\n",
    "    Here's one way to implement a generator function called genPrimes that returns the sequence of prime numbers on successive calls to its next() method:"
   ]
  },
  {
   "cell_type": "markdown",
   "id": "f564d600-414a-415a-8864-d037d1686351",
   "metadata": {},
   "source": [
    "def genPrimes(n):\n",
    "    \"\"\"\n",
    "    A generator function that returns the sequence of prime numbers on successive calls to its next() method.\n",
    "    \"\"\"\n",
    "    primes = []   # a list to keep track of the primes we have found so far\n",
    "    num = 2       # the first prime number\n",
    "    \n",
    "    while True:\n",
    "        # check if num is prime\n",
    "        is_prime = True\n",
    "        for prime in primes:\n",
    "            if num % prime == 0:\n",
    "                is_prime = False\n",
    "                break\n",
    "        \n",
    "        if is_prime:\n",
    "            primes.append(num)\n",
    "            yield num\n",
    "        \n",
    "        num += 1      \n"
   ]
  }
 ],
 "metadata": {
  "kernelspec": {
   "display_name": "Python 3 (ipykernel)",
   "language": "python",
   "name": "python3"
  },
  "language_info": {
   "codemirror_mode": {
    "name": "ipython",
    "version": 3
   },
   "file_extension": ".py",
   "mimetype": "text/x-python",
   "name": "python",
   "nbconvert_exporter": "python",
   "pygments_lexer": "ipython3",
   "version": "3.10.6"
  }
 },
 "nbformat": 4,
 "nbformat_minor": 5
}
