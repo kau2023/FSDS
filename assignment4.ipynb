{
 "cells": [
  {
   "cell_type": "markdown",
   "id": "1dffb823",
   "metadata": {},
   "source": [
    "1.What exactly is [ ]?\n",
    "Sol: Its an empty list\n",
    "2.In a list of values stored in a variable called spam, how would you assign the value hello' as the third value? (Assume [2, 4, 6, 8, 10] are in spam.)\n",
    "Sol:spam[2]='hello'\n",
    "3. What is the value of spam[int(int(3 * 2) / 11)]?\n",
    "Sol."
   ]
  },
  {
   "cell_type": "code",
   "execution_count": 2,
   "id": "ef791c75",
   "metadata": {},
   "outputs": [
    {
     "data": {
      "text/plain": [
       "2"
      ]
     },
     "execution_count": 2,
     "metadata": {},
     "output_type": "execute_result"
    }
   ],
   "source": [
    "spam=[2, 4, 6, 8, 10]\n",
    "spam[int(int(3*2)/11)]"
   ]
  },
  {
   "cell_type": "markdown",
   "id": "2ac753f3",
   "metadata": {},
   "source": [
    "4.What is the value of spam[-1]?b"
   ]
  },
  {
   "cell_type": "code",
   "execution_count": 3,
   "id": "e9f85d3f",
   "metadata": {},
   "outputs": [
    {
     "data": {
      "text/plain": [
       "10"
      ]
     },
     "execution_count": 3,
     "metadata": {},
     "output_type": "execute_result"
    }
   ],
   "source": [
    "spam[-1]"
   ]
  },
  {
   "cell_type": "markdown",
   "id": "7227c36b",
   "metadata": {},
   "source": [
    "5.What is the value of spam[:2]?"
   ]
  },
  {
   "cell_type": "code",
   "execution_count": 4,
   "id": "9795dfbb",
   "metadata": {},
   "outputs": [
    {
     "data": {
      "text/plain": [
       "[2, 4]"
      ]
     },
     "execution_count": 4,
     "metadata": {},
     "output_type": "execute_result"
    }
   ],
   "source": [
    "spam[:2]"
   ]
  },
  {
   "cell_type": "markdown",
   "id": "a4b11ad3",
   "metadata": {},
   "source": [
    "*Let's pretend bacon has the list [3.14, 'cat' 11, 'cat' True] for the next three questions.*\n",
    "\n",
    "6.What is the value of bacon.index('cat')?"
   ]
  },
  {
   "cell_type": "code",
   "execution_count": 6,
   "id": "e06b800f",
   "metadata": {},
   "outputs": [
    {
     "data": {
      "text/plain": [
       "1"
      ]
     },
     "execution_count": 6,
     "metadata": {},
     "output_type": "execute_result"
    }
   ],
   "source": [
    "bacon=[3.14, 'cat', 11, 'cat', True]\n",
    "bacon.index('cat')"
   ]
  },
  {
   "cell_type": "code",
   "execution_count": null,
   "id": "156df3b7",
   "metadata": {},
   "outputs": [],
   "source": [
    "7.How does bacon.append(99) change the look of the list value in bacon?"
   ]
  },
  {
   "cell_type": "code",
   "execution_count": 12,
   "id": "fa252cfb",
   "metadata": {},
   "outputs": [
    {
     "data": {
      "text/plain": [
       "[3.14, 'cat', 11, 'cat', True, 99]"
      ]
     },
     "execution_count": 12,
     "metadata": {},
     "output_type": "execute_result"
    }
   ],
   "source": [
    "bacon.append(99)\n",
    "bacon"
   ]
  },
  {
   "cell_type": "code",
   "execution_count": null,
   "id": "8429bcb9",
   "metadata": {},
   "outputs": [],
   "source": [
    "8.How does bacon.remove('cat') change the look of the list in bacon?"
   ]
  },
  {
   "cell_type": "code",
   "execution_count": 13,
   "id": "1e6a81c1",
   "metadata": {},
   "outputs": [],
   "source": [
    "bacon.remove('cat')"
   ]
  },
  {
   "cell_type": "code",
   "execution_count": 14,
   "id": "5b25a72b",
   "metadata": {},
   "outputs": [
    {
     "data": {
      "text/plain": [
       "[3.14, 11, 'cat', True, 99]"
      ]
     },
     "execution_count": 14,
     "metadata": {},
     "output_type": "execute_result"
    }
   ],
   "source": [
    "bacon"
   ]
  },
  {
   "cell_type": "code",
   "execution_count": null,
   "id": "13fa89a1",
   "metadata": {},
   "outputs": [],
   "source": [
    "9.What are the list concatenation and list replication operators?"
   ]
  },
  {
   "cell_type": "code",
   "execution_count": null,
   "id": "770245ee",
   "metadata": {},
   "outputs": [],
   "source": [
    "( * ) is list replication operator ( + ) is list concatination operator"
   ]
  },
  {
   "cell_type": "code",
   "execution_count": null,
   "id": "ebfb3068",
   "metadata": {},
   "outputs": [],
   "source": [
    "10.What is difference between the list methods append() and insert()?"
   ]
  },
  {
   "cell_type": "code",
   "execution_count": null,
   "id": "1ea50b36",
   "metadata": {},
   "outputs": [],
   "source": [
    "Sol:append add an element at the end of the list while insert adds an elements at a certain index in a list"
   ]
  },
  {
   "cell_type": "code",
   "execution_count": null,
   "id": "ad008ad1",
   "metadata": {},
   "outputs": [],
   "source": [
    "11.What are the two methods for removing items from a list?"
   ]
  },
  {
   "cell_type": "code",
   "execution_count": null,
   "id": "3eb57c07",
   "metadata": {},
   "outputs": [],
   "source": [
    "Sol:\n",
    "    remove() and pop()"
   ]
  },
  {
   "cell_type": "code",
   "execution_count": 17,
   "id": "e0e49be5",
   "metadata": {},
   "outputs": [],
   "source": [
    "bacon.remove(3.14)"
   ]
  },
  {
   "cell_type": "code",
   "execution_count": 19,
   "id": "a018da30",
   "metadata": {},
   "outputs": [
    {
     "data": {
      "text/plain": [
       "99"
      ]
     },
     "execution_count": 19,
     "metadata": {},
     "output_type": "execute_result"
    }
   ],
   "source": [
    "bacon.pop()"
   ]
  },
  {
   "cell_type": "code",
   "execution_count": null,
   "id": "08ffac5c",
   "metadata": {},
   "outputs": [],
   "source": [
    "12.Describe how list values and string values are identical."
   ]
  },
  {
   "cell_type": "code",
   "execution_count": null,
   "id": "f49f49f4",
   "metadata": {},
   "outputs": [],
   "source": [
    "Sol:Both lists and strings can be passed to len()\n",
    "Have indexes and slices\n",
    "Can be used in for loops\n",
    "Can be concatenated or replicated\n",
    "Can be used with the in and not in operators"
   ]
  },
  {
   "cell_type": "code",
   "execution_count": null,
   "id": "44ff791c",
   "metadata": {},
   "outputs": [],
   "source": [
    "13.What's the difference between tuples and lists?"
   ]
  },
  {
   "cell_type": "code",
   "execution_count": null,
   "id": "3a7a4075",
   "metadata": {},
   "outputs": [],
   "source": [
    "Sol:Tuples are immutable objects while lists are mutable. lists are written in [] while tuples are written in ()"
   ]
  },
  {
   "cell_type": "code",
   "execution_count": null,
   "id": "de327e26",
   "metadata": {},
   "outputs": [],
   "source": [
    "14.How do you type a tuple value that only contains the integer 42?"
   ]
  },
  {
   "cell_type": "code",
   "execution_count": null,
   "id": "08814856",
   "metadata": {},
   "outputs": [],
   "source": [
    "Sol:a=(42)"
   ]
  },
  {
   "cell_type": "code",
   "execution_count": 21,
   "id": "629c6d3c",
   "metadata": {},
   "outputs": [
    {
     "data": {
      "text/plain": [
       "42"
      ]
     },
     "execution_count": 21,
     "metadata": {},
     "output_type": "execute_result"
    }
   ],
   "source": [
    "a=(42)\n",
    "a"
   ]
  },
  {
   "cell_type": "code",
   "execution_count": null,
   "id": "477bebe3",
   "metadata": {},
   "outputs": [],
   "source": [
    "15.How do you get a list value's tuple form? How do you get a tuple value's list form?\n",
    "Sol:\n",
    "    "
   ]
  },
  {
   "cell_type": "code",
   "execution_count": 26,
   "id": "6b2edda3",
   "metadata": {},
   "outputs": [
    {
     "data": {
      "text/plain": [
       "[1, 2, 3, 4]"
      ]
     },
     "execution_count": 26,
     "metadata": {},
     "output_type": "execute_result"
    }
   ],
   "source": [
    "l=[1,2,3]\n",
    "l1=tuple(l)\n",
    "l2=(1,2,3,4)\n",
    "l3=list(l2)   \n",
    "l\n",
    "l1\n",
    "l2\n",
    "l3"
   ]
  },
  {
   "cell_type": "code",
   "execution_count": null,
   "id": "9a5f5804",
   "metadata": {},
   "outputs": [],
   "source": [
    "16.Variables that \"contain\" list values are not necessarily lists themselves. Instead, what do they contain?"
   ]
  },
  {
   "cell_type": "code",
   "execution_count": null,
   "id": "9506bec4",
   "metadata": {},
   "outputs": [],
   "source": [
    "Sol:They contain references to list values"
   ]
  },
  {
   "cell_type": "code",
   "execution_count": null,
   "id": "c9f687c7",
   "metadata": {},
   "outputs": [],
   "source": [
    "17.How do you distinguish between copy.copy() and copy.deepcopy()?\n",
    "Sol.The copy.copy() function will do a shallow copy of a list,\n",
    "The copy.deepcopy() function will do a deep copy of a list. only copy.deepcopy() will duplicate any lists inside the list"
   ]
  }
 ],
 "metadata": {
  "kernelspec": {
   "display_name": "Python 3 (ipykernel)",
   "language": "python",
   "name": "python3"
  },
  "language_info": {
   "codemirror_mode": {
    "name": "ipython",
    "version": 3
   },
   "file_extension": ".py",
   "mimetype": "text/x-python",
   "name": "python",
   "nbconvert_exporter": "python",
   "pygments_lexer": "ipython3",
   "version": "3.7.11"
  }
 },
 "nbformat": 4,
 "nbformat_minor": 5
}
