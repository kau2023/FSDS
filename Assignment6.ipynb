{
 "cells": [
  {
   "cell_type": "markdown",
   "id": "03a3aca2-29e6-4d8d-9408-b1561b88f3a1",
   "metadata": {},
   "source": [
    "1. What are escape characters, and how do you use them?\n",
    "Sol:\n",
    "In Python strings, the backslash \"\" is a special character, also called the \"escape\" character. It is used in representing certain whitespace characters: \"\\t\" is a tab, \"\\n\" is a newline, and \"\\r\" is a carriage return\n",
    "2. What do the escape characters n and t stand for?\n",
    "Sol: \\n denotes new line\n",
    "\\t denotes a tab\n",
    "3.What is the way to include backslash characters in a string?\n",
    "Sol:\n"
   ]
  },
  {
   "cell_type": "code",
   "execution_count": 1,
   "id": "666bfef0-6339-4ad2-9fa7-704be0cd586f",
   "metadata": {},
   "outputs": [
    {
     "name": "stdout",
     "output_type": "stream",
     "text": [
      "it is a \\ character\n"
     ]
    }
   ],
   "source": [
    "print(\"it is a \\ character\")"
   ]
  },
  {
   "cell_type": "markdown",
   "id": "4caeb37b-aa03-440f-b499-73916003806f",
   "metadata": {},
   "source": [
    "3. The string \"Howl's Moving Castle\" is a correct value. Why isn't the single quote character in the word Howl's not escaped a problem?\n",
    "Sol:Because it is enclosed in double quotes so ' can be displayed in normal way and not as a escape character."
   ]
  },
  {
   "cell_type": "code",
   "execution_count": 2,
   "id": "d2ea33bf-e495-40a8-873b-c90b22a05bc0",
   "metadata": {},
   "outputs": [
    {
     "name": "stdout",
     "output_type": "stream",
     "text": [
      "HowI's Moving Castle\n"
     ]
    }
   ],
   "source": [
    "print(\"HowI's Moving Castle\")"
   ]
  },
  {
   "cell_type": "code",
   "execution_count": null,
   "id": "d13873b9-c00e-483e-b2d3-cb12fea167bc",
   "metadata": {},
   "outputs": [],
   "source": [
    "4.How do you write a string of newlines if you don't want to use the n character?"
   ]
  },
  {
   "cell_type": "code",
   "execution_count": 4,
   "id": "27d8299c-8f92-4901-aa6d-9b32ab15e27e",
   "metadata": {},
   "outputs": [
    {
     "name": "stdout",
     "output_type": "stream",
     "text": [
      "Five newlines:\n",
      "\n",
      "\n",
      "\n",
      "\n",
      "\n",
      "\n",
      "Five newlines:\n"
     ]
    }
   ],
   "source": [
    "import os\n",
    "\n",
    "newlines = os.linesep * 5\n",
    "print(\"Five newlines:\")\n",
    "print(newlines)\n",
    "print(\"Five newlines:\")"
   ]
  },
  {
   "cell_type": "markdown",
   "id": "20f4a093-a931-48d1-87d8-5185ea1587ba",
   "metadata": {},
   "source": [
    "5.What are the values of the given expressions?"
   ]
  },
  {
   "cell_type": "code",
   "execution_count": 6,
   "id": "68ead3f5-f476-4fa2-8b1d-c1dbec3b94c6",
   "metadata": {},
   "outputs": [
    {
     "data": {
      "text/plain": [
       "'e'"
      ]
     },
     "execution_count": 6,
     "metadata": {},
     "output_type": "execute_result"
    }
   ],
   "source": [
    "'Hello, world!'[1] "
   ]
  },
  {
   "cell_type": "code",
   "execution_count": 7,
   "id": "b3ed4ec1-6cd4-41fe-9d50-f6f637ee3a79",
   "metadata": {},
   "outputs": [
    {
     "data": {
      "text/plain": [
       "'Hello'"
      ]
     },
     "execution_count": 7,
     "metadata": {},
     "output_type": "execute_result"
    }
   ],
   "source": [
    "'Hello, world!'[0:5] "
   ]
  },
  {
   "cell_type": "code",
   "execution_count": 8,
   "id": "f806182b-2d1d-40ea-b7f7-e625cc1a1ca2",
   "metadata": {},
   "outputs": [
    {
     "data": {
      "text/plain": [
       "'Hello'"
      ]
     },
     "execution_count": 8,
     "metadata": {},
     "output_type": "execute_result"
    }
   ],
   "source": [
    "'Hello, world!'[:5] "
   ]
  },
  {
   "cell_type": "code",
   "execution_count": 9,
   "id": "fc2d01b2-3624-4fe7-b758-0a2397f2e1e7",
   "metadata": {},
   "outputs": [
    {
     "data": {
      "text/plain": [
       "'lo, world!'"
      ]
     },
     "execution_count": 9,
     "metadata": {},
     "output_type": "execute_result"
    }
   ],
   "source": [
    "'Hello, world!'[3:]"
   ]
  },
  {
   "cell_type": "code",
   "execution_count": null,
   "id": "e49714b8-b0d6-4819-8bb2-a96da901ce98",
   "metadata": {},
   "outputs": [],
   "source": [
    "6.What are the values of the following expressions?\n",
    "Sol:"
   ]
  },
  {
   "cell_type": "code",
   "execution_count": 10,
   "id": "ea86dc89-2050-403e-b807-6252c2440251",
   "metadata": {},
   "outputs": [
    {
     "data": {
      "text/plain": [
       "'HELLO'"
      ]
     },
     "execution_count": 10,
     "metadata": {},
     "output_type": "execute_result"
    }
   ],
   "source": [
    "'Hello'.upper() "
   ]
  },
  {
   "cell_type": "code",
   "execution_count": 11,
   "id": "b9a432a2-2f31-4c1b-b061-f5c353dc6d45",
   "metadata": {},
   "outputs": [
    {
     "data": {
      "text/plain": [
       "True"
      ]
     },
     "execution_count": 11,
     "metadata": {},
     "output_type": "execute_result"
    }
   ],
   "source": [
    "'Hello'.upper().isupper() "
   ]
  },
  {
   "cell_type": "code",
   "execution_count": 12,
   "id": "2c13ad09-0a49-4e32-afc3-565769e1254c",
   "metadata": {},
   "outputs": [
    {
     "data": {
      "text/plain": [
       "'hello'"
      ]
     },
     "execution_count": 12,
     "metadata": {},
     "output_type": "execute_result"
    }
   ],
   "source": [
    "'Hello'.upper().lower()"
   ]
  },
  {
   "cell_type": "code",
   "execution_count": null,
   "id": "f994b668-dd68-4c43-be15-6cd5b814c6a6",
   "metadata": {},
   "outputs": [],
   "source": [
    "8.What are the values of the following expressions?\n",
    "'Remember, remember, the fifth of July.'.split() '-'.join('There can only one.'.split())\n",
    "Sol:"
   ]
  },
  {
   "cell_type": "code",
   "execution_count": 3,
   "id": "75e609ef-df96-4645-adc2-e87d1ba6ba8b",
   "metadata": {},
   "outputs": [
    {
     "data": {
      "text/plain": [
       "['Remember,', 'remember,', 'the', 'fifth', 'of', 'July.']"
      ]
     },
     "execution_count": 3,
     "metadata": {},
     "output_type": "execute_result"
    }
   ],
   "source": [
    "'Remember, remember, the fifth of July.'.split() "
   ]
  },
  {
   "cell_type": "code",
   "execution_count": 4,
   "id": "b1e8b774-6580-4457-8994-5420b440e786",
   "metadata": {},
   "outputs": [
    {
     "data": {
      "text/plain": [
       "'There-can-only-one.'"
      ]
     },
     "execution_count": 4,
     "metadata": {},
     "output_type": "execute_result"
    }
   ],
   "source": [
    "'-'.join('There can only one.'.split())"
   ]
  },
  {
   "cell_type": "code",
   "execution_count": null,
   "id": "86179327-e0bd-4da4-9460-daf81cfb0368",
   "metadata": {},
   "outputs": [],
   "source": [
    "9.What are the methods for right-justifying, left-justifying, and centering a string?\n",
    "Sol:"
   ]
  },
  {
   "cell_type": "code",
   "execution_count": 5,
   "id": "04bd91d4-d5c9-46b6-9bbd-42b3e473efa8",
   "metadata": {},
   "outputs": [
    {
     "data": {
      "text/plain": [
       "'Shiva-----'"
      ]
     },
     "execution_count": 5,
     "metadata": {},
     "output_type": "execute_result"
    }
   ],
   "source": [
    "str =\"Shiva\"\n",
    "str.ljust(10,\"-\")"
   ]
  },
  {
   "cell_type": "code",
   "execution_count": 6,
   "id": "b665a358-cbc8-44e2-a828-9b3f466dbe1b",
   "metadata": {},
   "outputs": [
    {
     "data": {
      "text/plain": [
       "'******************************My name is'"
      ]
     },
     "execution_count": 6,
     "metadata": {},
     "output_type": "execute_result"
    }
   ],
   "source": [
    "str =\"My name is\"\n",
    "str.rjust(40,'*')"
   ]
  },
  {
   "cell_type": "code",
   "execution_count": 7,
   "id": "898099bc-1c1b-4ac5-889f-b703ce586419",
   "metadata": {},
   "outputs": [
    {
     "data": {
      "text/plain": [
       "'***************My name is***************'"
      ]
     },
     "execution_count": 7,
     "metadata": {},
     "output_type": "execute_result"
    }
   ],
   "source": [
    "str =\"My name is\"\n",
    "str.center(40,'*')\n",
    "     "
   ]
  },
  {
   "cell_type": "code",
   "execution_count": null,
   "id": "815ad74d-541f-46b9-987e-748a758a506c",
   "metadata": {},
   "outputs": [],
   "source": [
    "10.What is the best way to remove whitespace characters from the start or end?\n",
    "Sol:\n",
    "    "
   ]
  },
  {
   "cell_type": "code",
   "execution_count": 8,
   "id": "35db2858-33e1-4bc0-abfe-f9a58dbff527",
   "metadata": {},
   "outputs": [
    {
     "data": {
      "text/plain": [
       "'gfgfgfgfgfgfgf yuyuyuuyuy  '"
      ]
     },
     "execution_count": 8,
     "metadata": {},
     "output_type": "execute_result"
    }
   ],
   "source": [
    "str =\"  gfgfgfgfgfgfgf yuyuyuuyuy  \"\n",
    "str.lstrip()"
   ]
  },
  {
   "cell_type": "code",
   "execution_count": 9,
   "id": "cb4ed05d-1c02-43a0-ada1-c9e2087a4f60",
   "metadata": {},
   "outputs": [
    {
     "data": {
      "text/plain": [
       "'  yytytytyyt mmamamam'"
      ]
     },
     "execution_count": 9,
     "metadata": {},
     "output_type": "execute_result"
    }
   ],
   "source": [
    "str =\"  yytytytyyt mmamamam  \"\n",
    "str.rstrip()"
   ]
  },
  {
   "cell_type": "code",
   "execution_count": null,
   "id": "cc111807-c2cb-4027-8dd8-0698fc95a20b",
   "metadata": {},
   "outputs": [],
   "source": []
  }
 ],
 "metadata": {
  "kernelspec": {
   "display_name": "Python 3 (ipykernel)",
   "language": "python",
   "name": "python3"
  },
  "language_info": {
   "codemirror_mode": {
    "name": "ipython",
    "version": 3
   },
   "file_extension": ".py",
   "mimetype": "text/x-python",
   "name": "python",
   "nbconvert_exporter": "python",
   "pygments_lexer": "ipython3",
   "version": "3.10.6"
  }
 },
 "nbformat": 4,
 "nbformat_minor": 5
}
