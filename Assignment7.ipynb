{
 "cells": [
  {
   "cell_type": "markdown",
   "id": "ba0f39d2-3aa0-4a0d-a174-a4a945f2482f",
   "metadata": {},
   "source": [
    "1.What is the name of the feature responsible for generating Regex objects in python?\n",
    "Sol:\n",
    "    The feature responsible for generating Regex objects in Python is the \"re\" module. The \"re\" module provides support for regular expressions in Python, and it includes functions for creating and working with Regex objects. You can use the \"re.compile()\" function to create a Regex object from a regular expression pattern, and then use the methods of the Regex object to search, match, and manipulate text.\n",
    "2.Why do raw strings often appear in Regex objects?\n",
    "\n",
    "Sol:\n",
    "Raw strings are often used in regular expressions because they allow you to avoid backslashes being interpreted as escape characters. In regular expressions, backslashes are commonly used to escape special characters, such as the dot (.) or the asterisk (*), or to indicate special sequences, such as \\d for digits or \\s for whitespace.\n",
    "\n",
    "However, Python also uses backslashes as escape characters in strings. This means that if you use a regular string to define a regular expression pattern, you need to use double backslashes (\\) instead of a single backslash () to escape special characters in the pattern.\n",
    "\n",
    "To avoid this confusion and make the regular expression pattern more readable, you can use a raw string, which is a string that is prefixed with the letter \"r\". Raw strings in Python do not interpret backslashes as escape characters, so you can use a single backslash to escape special characters in the regular expression pattern.\n",
    "\n",
    "For example, if you want to match a string that contains a dot, you could define the regular expression pattern in a raw string like this: r\".\". Without the \"r\" prefix, you would need to write the regular expression pattern as \"\\.\", which is less readable and more error-prone.\n",
    "3. What is the return value of the search() method?\n",
    "\n",
    "Sol.The search() method in Python's regular expression module (re) returns a match object if the regular expression pattern matches any part of the string being searched. If the pattern is not found, the search() method returns None.\n",
    "\n",
    "The match object returned by search() can be used to obtain information about the match, such as the starting and ending positions of the match, the matched text, and any captured groups in the pattern. The match object also provides methods for further processing of the match, such as replacing the matched text with other text.\n",
    "\n",
    "4.From a Match item, how do you get the actual strings that match the pattern?\n",
    "Sol:\n",
    "To get the actual strings that match the pattern from a Match object in Python, you can use the group() method.\n",
    "\n",
    "If the regular expression pattern contains one or more capturing groups, you can pass an argument to group() specifying the index of the group you want to retrieve. Group 0 is always the entire match, and subsequent groups are numbered based on the order of their opening parentheses in the pattern.\n",
    "5. In the regex which created from the r&#39;(\\d\\d\\d)-(\\d\\d\\d-\\d\\d\\d\\d)&#39;, what does group zero cover?\n",
    "Group 2? Group 1?\n",
    "Sol:\n",
    "In the regular expression r'(\\d\\d\\d)-(\\d\\d\\d-\\d\\d\\d\\d)', group zero covers the entire match, group 1 covers the first capturing group, and group 2 covers the second capturing group.\n",
    "\n",
    "Here's what each group covers:\n",
    "\n",
    "Group 0: The entire match, which is the substring that matches the entire regular expression pattern.\n",
    "Group 1: The first capturing group, which is the three digits before the hyphen in the input string.\n",
    "Group 2: The second capturing group, which is the seven digits after the hyphen in the input string.\n",
    "Here's an example of how to use groups in Python to extract the captured text:"
   ]
  },
  {
   "cell_type": "code",
   "execution_count": 1,
   "id": "2920101e-1b43-4ee3-aeb9-83a3ac8ff2c5",
   "metadata": {},
   "outputs": [
    {
     "name": "stdout",
     "output_type": "stream",
     "text": [
      "Entire match: 123-456-7890\n",
      "Group 1: 123\n",
      "Group 2: 456-7890\n"
     ]
    }
   ],
   "source": [
    "import re\n",
    "\n",
    "text = \"My phone number is 123-456-7890.\"\n",
    "pattern = r'(\\d\\d\\d)-(\\d\\d\\d-\\d\\d\\d\\d)'\n",
    "\n",
    "match = re.search(pattern, text)\n",
    "\n",
    "if match:\n",
    "    # Print the entire match\n",
    "    print(\"Entire match:\", match.group(0))\n",
    "    \n",
    "    # Print the first capturing group\n",
    "    print(\"Group 1:\", match.group(1))\n",
    "    \n",
    "    # Print the second capturing group\n",
    "    print(\"Group 2:\", match.group(2))\n",
    "else:\n",
    "    print(\"Match not found.\")"
   ]
  },
  {
   "cell_type": "markdown",
   "id": "86eb4e35-edc9-470d-a229-be8cf36f11b9",
   "metadata": {},
   "source": [
    "6.In standard expression syntax, parentheses and intervals have distinct meanings. How can you tell\n",
    "a regex that you want it to fit real parentheses and periods?\n",
    "Sol:\n",
    "In regular expressions, parentheses and periods (also known as dots) have special meanings, which means that if you want to match them as literal characters, you need to escape them with a backslash \\.\n",
    "\n",
    "To match real parentheses and periods using regular expressions in Python, you can use the backslash character \\ to escape them. Here's an example that shows how to match a string containing parentheses and periods:"
   ]
  },
  {
   "cell_type": "code",
   "execution_count": 2,
   "id": "58c5b9e3-5fb1-4318-a37c-42576345d026",
   "metadata": {},
   "outputs": [
    {
     "name": "stdout",
     "output_type": "stream",
     "text": [
      "Match found!\n"
     ]
    }
   ],
   "source": [
    "import re\n",
    "\n",
    "text = \"This is a (test) string with periods. And more periods...\"\n",
    "\n",
    "# Use backslashes to escape the parentheses and periods\n",
    "pattern = r\"\\(test\\) string with periods\\. And more periods\\.\\.\\.\"\n",
    "\n",
    "match = re.search(pattern, text)\n",
    "\n",
    "if match:\n",
    "    print(\"Match found!\")\n",
    "else:\n",
    "    print(\"Match not found.\")\n"
   ]
  },
  {
   "cell_type": "markdown",
   "id": "6832a6ac-3673-4be5-b016-30b0a95f08d8",
   "metadata": {},
   "source": [
    "7. The findall() method returns a string list or a list of string tuples. What causes it to return one of\n",
    "the two options?\n",
    "Sol:\n",
    "    The findall() method in Python's re module returns either a list of strings or a list of string tuples depending on whether or not the regular expression pattern contains capturing groups.\n",
    "\n",
    "If the regular expression pattern contains no capturing groups (i.e., no parentheses), then findall() returns a list of strings, where each string in the list is a non-overlapping match for the pattern in the input string.\n",
    "\n",
    "For example, consider the following code:    "
   ]
  },
  {
   "cell_type": "code",
   "execution_count": 3,
   "id": "8fb6d200-bc60-4b04-af53-66f453adfd5a",
   "metadata": {},
   "outputs": [
    {
     "name": "stdout",
     "output_type": "stream",
     "text": [
      "['The', 'quick', 'brown', 'fox', 'jumps', 'over', 'the', 'lazy', 'dog']\n"
     ]
    }
   ],
   "source": [
    "import re\n",
    "\n",
    "text = \"The quick brown fox jumps over the lazy dog.\"\n",
    "pattern = r\"\\w+\"\n",
    "\n",
    "matches = re.findall(pattern, text)\n",
    "\n",
    "print(matches)"
   ]
  },
  {
   "cell_type": "markdown",
   "id": "7432df25-3ce6-42ee-abb2-2383bb72e92e",
   "metadata": {},
   "source": [
    "8.In standard expressions, what does the | character mean?\n",
    "Sol:\n",
    "In regular expressions, the | (vertical bar or pipe) character is used to specify alternation, which means \"either this or that\". It is a metacharacter that allows you to specify a choice between two or more patterns.\n",
    "\n",
    "For example, the regular expression A|B matches either the character \"A\" or the character \"B\" in the input text. The vertical bar separates the two alternatives, and the regular expression engine will try to match the input text against each alternative in turn. If either alternative matches, the match succeeds.\n",
    "\n",
    "Here's an example that shows how to use the | character in a regular expression:"
   ]
  },
  {
   "cell_type": "code",
   "execution_count": 4,
   "id": "e10c9511-c8f8-4114-8cb6-adf62f6d9a43",
   "metadata": {},
   "outputs": [
    {
     "name": "stdout",
     "output_type": "stream",
     "text": [
      "['fox', 'dog']\n"
     ]
    }
   ],
   "source": [
    "import re\n",
    "\n",
    "text = \"The quick brown fox jumps over the lazy dog.\"\n",
    "\n",
    "# Match either \"fox\" or \"dog\"\n",
    "pattern = r\"fox|dog\"\n",
    "\n",
    "matches = re.findall(pattern, text)\n",
    "\n",
    "print(matches)\n"
   ]
  },
  {
   "cell_type": "markdown",
   "id": "ecfdb190-f8fe-4566-bf56-8cd8952745fc",
   "metadata": {},
   "source": [
    "9. In regular expressions, what does the character stand for?\n",
    "Sol:\n",
    "    In regular expressions, the dot or period (.) character is a metacharacter that matches any single character except for a newline character (\\n).\n",
    "\n",
    "For example, the regular expression a.b matches a string that contains an \"a\", followed by any single character, followed by a \"b\". This pattern would match strings like \"axb\", \"a4b\", \"acb\", but not \"ab\" (because there's no character between the \"a\" and \"b\").\n",
    "\n",
    "Here's an example that shows how to use the dot character in a regular expression:"
   ]
  },
  {
   "cell_type": "code",
   "execution_count": 5,
   "id": "dbd6ce1b-41cc-4e30-9027-bb8da45b94e4",
   "metadata": {},
   "outputs": [
    {
     "name": "stdout",
     "output_type": "stream",
     "text": [
      "[]\n"
     ]
    }
   ],
   "source": [
    "import re\n",
    "\n",
    "text = \"The quick brown fox jumps over the lazy dog.\"\n",
    "\n",
    "# Match any three characters starting with \"q\" and ending with \"k\"\n",
    "pattern = r\"q..k\"\n",
    "\n",
    "matches = re.findall(pattern, text)\n",
    "\n",
    "print(matches)\n"
   ]
  },
  {
   "cell_type": "markdown",
   "id": "c2852ccb-c8b3-474d-bd8a-fe2245887493",
   "metadata": {},
   "source": [
    "10.In regular expressions, what is the difference between the + and * characters?\n",
    "Sol:\n",
    "    In regular expressions, the + and * characters are quantifiers that specify how many times the preceding character or group should be matched.\n",
    "\n",
    "The + character matches one or more occurrences of the preceding character or group. For example, the regular expression a+ matches one or more \"a\" characters. It would match strings like \"a\", \"aa\", \"aaa\", and so on, but not an empty string.\n",
    "\n",
    "The * character matches zero or more occurrences of the preceding character or group. For example, the regular expression a* matches zero or more \"a\" characters. It would match any string, including an empty string.\n",
    "\n",
    "Here's an example that shows the difference between the + and * characters in a regular expression:"
   ]
  },
  {
   "cell_type": "code",
   "execution_count": 6,
   "id": "b6c47b48-12ef-47fc-9cd0-71a4e4f2b180",
   "metadata": {},
   "outputs": [
    {
     "name": "stdout",
     "output_type": "stream",
     "text": [
      "['o', 'o', 'o', 'o']\n",
      "['', '', '', '', '', '', '', '', '', '', '', '', 'o', '', '', '', '', 'o', '', '', '', '', '', '', '', '', 'o', '', '', '', '', '', '', '', '', '', '', '', '', '', '', 'o', '', '', '']\n"
     ]
    }
   ],
   "source": [
    "import re\n",
    "\n",
    "text = \"The quick brown fox jumps over the lazy dog.\"\n",
    "\n",
    "# Match any sequence of \"o\" characters\n",
    "pattern1 = r\"o+\"\n",
    "\n",
    "# Match any sequence of \"o\" characters, including zero\n",
    "pattern2 = r\"o*\"\n",
    "\n",
    "matches1 = re.findall(pattern1, text)\n",
    "matches2 = re.findall(pattern2, text)\n",
    "\n",
    "print(matches1)\n",
    "print(matches2)\n"
   ]
  },
  {
   "cell_type": "markdown",
   "id": "865b491b-3ff0-4cff-8a3c-db7ba86029a3",
   "metadata": {},
   "source": [
    "11. What is the difference between {4} and {4,5} in regular expression?\n",
    "Sol:\n",
    "    In regular expressions, curly braces {} are used as quantifiers to specify the number of occurrences of a character or group.\n",
    "\n",
    "{4} means that the preceding character or group should be matched exactly 4 times.\n",
    "\n",
    "For example, the regular expression a{4} would match a string that has exactly 4 consecutive \"a\" characters. It would match \"aaaa\" but not \"aa\" or \"aaaaa\".\n",
    "\n",
    "{4,5} means that the preceding character or group should be matched at least 4 times and at most 5 times.\n",
    "\n",
    "For example, the regular expression a{4,5} would match a string that has either 4 or 5 consecutive \"a\" characters. It would match \"aaaa\" or \"aaaaa\" but not \"aa\" or \"aaaaaa\".\n",
    "\n",
    "In summary, the difference between {4} and {4,5} is that the former matches exactly 4 occurrences, while the latter matches between 4 and 5 occurrences."
   ]
  },
  {
   "cell_type": "markdown",
   "id": "c64119ca-ea4d-44c6-aee4-d313ab59e6fb",
   "metadata": {},
   "source": [
    "12. What do you mean by the \\d, \\w, and \\s shorthand character classes signify in regular\n",
    "expressions?\n",
    "Sol:\n",
    "    In regular expressions, shorthand character classes are used to match specific types of characters. Here are what the \\d, \\w, and \\s shorthand character classes signify:\n",
    "\n",
    "\\d - This matches any digit character (0-9). It is equivalent to the character class [0-9].\n",
    "\n",
    "\\w - This matches any word character, including alphanumeric characters and underscores. It is equivalent to the character class [a-zA-Z0-9_].\n",
    "\n",
    "\\s - This matches any whitespace character, including spaces, tabs, and newlines. It is equivalent to the character class [\\t\\n\\r\\f\\v].\n",
    "\n",
    "These shorthand character classes are very useful when you need to match a large number of characters that belong to a specific category. For example, if you want to match a phone number, you can use the shorthand character class \\d to match any digit character, instead of having to specify all possible digit characters (0-9) individually. Similarly, if you want to match an email address, you can use the shorthand character class \\w to match any alphanumeric character or underscore, instead of having to specify all possible alphanumeric characters and underscore characters individually."
   ]
  },
  {
   "cell_type": "markdown",
   "id": "28336d5e-07c0-4748-bbe5-23d407629506",
   "metadata": {},
   "source": [
    "13.What do means by \\D, \\W, and \\S shorthand character classes signify in regular expressions?\n",
    "Sol:\n",
    "    In regular expressions, the uppercase versions of the shorthand character classes \\d, \\w, and \\s are used to match characters that are not in those classes. Here is what the \\D, \\W, and \\S shorthand character classes signify:\n",
    "\n",
    "\\D - This matches any character that is not a digit character. It is equivalent to the character class [^0-9].\n",
    "\n",
    "\\W - This matches any character that is not a word character. It is equivalent to the character class [^a-zA-Z0-9_].\n",
    "\n",
    "\\S - This matches any character that is not a whitespace character. It is equivalent to the character class [^\\t\\n\\r\\f\\v].\n",
    "\n",
    "These uppercase shorthand character classes are useful when you need to match any character that is not in a specific category. For example, if you want to match a string that does not contain any digit characters, you can use the \\D shorthand character class to match any non-digit character. Similarly, if you want to match a string that does not contain any whitespace characters, you can use the \\S shorthand character class to match any non-whitespace character.\n",
    "14.What is the difference between .*? and .*?\n",
    "Sol:\n",
    "There seems to be a typo in the question, as both expressions are identical. However, I will explain the difference between .* and .*?.\n",
    "\n",
    "In regular expressions, .* is a greedy match that matches zero or more occurrences of any character (except for newline) until it reaches the end of the line or the end of the input string. This means that it will match as many characters as possible, which can cause issues in certain situations.\n",
    "\n",
    "On the other hand, .*? is a non-greedy match that matches zero or more occurrences of any character (except for newline) until it reaches the next character in the pattern. This means that it will match as few characters as possible, which can be useful in situations where you want to match the smallest possible substring.\n",
    "\n",
    "For example, consider the string \"abc123def456\". The regular expression .*\\d would match the entire string because the .* would match \"abc123def\" and the \\d would match the final digit \"6\". However, the regular expression .*?\\d would match only \"abc1\" because the .*? would match only the characters up to the first digit it encounters, which is \"1\".\n",
    "\n",
    "In summary, .* is a greedy match that matches as many characters as possible, while .*? is a non-greedy match that matches as few characters as possible.\n",
    "15. What is the syntax for matching both numbers and lowercase letters with a character class?\n",
    "Sol:\n",
    "To match both numbers and lowercase letters with a character class in regular expressions, you can use the shorthand character classes \\d and [a-z]. Here's an example:\n",
    "16. What is the procedure for making a normal expression in regax case insensitive?\n",
    "Sol:\n",
    "To make a regular expression case-insensitive in Python, you can use the re.IGNORECASE or re.I flag when compiling the regular expression pattern.\n",
    "17. What does the . character normally match? What does it match if re.DOTALL is passed as 2nd\n",
    "argument in re.compile()?\n",
    "Sol:\n",
    "In regular expressions, the . character (dot) normally matches any character except a newline (\\n). However, if the re.DOTALL (or re.S) flag is passed as the second argument to the re.compile() function, then the dot will match any character, including newlines.\n",
    "18.If numReg = re.compile(r&#39;\\d+&#39;), what will numRegex.sub(&#39;X&#39;, &#39;11 drummers, 10 pipers, five rings, 4\n",
    "hen&#39;) return?\n",
    "Sol:\n",
    "If numReg = re.compile(r'\\d+'), then numRegex.sub('X', '11 drummers, 10 pipers, five rings, 4 hen') will return the string 'X drummers, X pipers, five rings, X hen'.\n",
    "\n",
    "Here's how this works:\n",
    "\n",
    "The numReg regular expression pattern matches one or more digits (\\d+).\n",
    "The sub() method of the compiled regular expression object numRegex replaces all matches of the pattern with the replacement string 'X'.\n",
    "The input string '11 drummers, 10 pipers, five rings, 4 hen' contains four substrings that match the \\d+ pattern: '11', '10', '4'. The substring 'five' does not match the pattern.\n",
    "The sub() method replaces each of the matching substrings with the replacement string 'X', resulting in the string 'X drummers, X pipers, five rings, X hen'.\n",
    "Therefore, the final output of numRegex.sub('X', '11 drummers, 10 pipers, five rings, 4 hen') will be 'X drummers, X pipers, five rings, X hen'.\n",
    "19.What does passing re.VERBOSE as the 2nd argument to re.compile() allow to do?\n",
    "Sol:\n",
    "Passing re.VERBOSE as the second argument to re.compile() in Python allows you to create a regular expression pattern with whitespace and comments.\n",
    "\n",
    "Normally, in a regular expression pattern, whitespace characters (spaces, tabs, and newlines) are significant and are interpreted as part of the pattern. This can make complex patterns difficult to read and understand.\n",
    "\n",
    "By using the re.VERBOSE flag, you can include whitespace and comments in your pattern to make it more readable. In this mode, whitespace characters in the pattern are ignored, except when they are escaped with a backslash, and comments starting with # are allowed. This makes it easier to write and maintain complex regular expressions.\n",
    "20.How would you write a regex that match a number with comma for every three digits? It must\n",
    "match the given following:\n",
    "&#39;42&#39;\n",
    "&#39;1,234&#39;\n",
    "&#39;6,368,745&#39;\n",
    "\n",
    "but not the following:\n",
    "&#39;12,34,567&#39; (which has only two digits between the commas)\n",
    "&#39;1234&#39; (which lacks commas)\n",
    "Sol:"
   ]
  },
  {
   "cell_type": "code",
   "execution_count": 7,
   "id": "8f1a2bc8-abbb-42c3-a52c-005719377682",
   "metadata": {},
   "outputs": [
    {
     "name": "stdout",
     "output_type": "stream",
     "text": [
      "42 is a valid number with commas\n",
      "1,234 is a valid number with commas\n",
      "6,368,745 is a valid number with commas\n",
      "12,34,567 is not a valid number with commas\n",
      "1234 is not a valid number with commas\n"
     ]
    }
   ],
   "source": [
    "import re\n",
    "\n",
    "pattern = re.compile(r'^\\d{1,3}(,\\d{3})*$')\n",
    "strings = ['42', '1,234', '6,368,745', '12,34,567', '1234']\n",
    "\n",
    "for s in strings:\n",
    "    if pattern.match(s):\n",
    "        print(f\"{s} is a valid number with commas\")\n",
    "    else:\n",
    "        print(f\"{s} is not a valid number with commas\")\n"
   ]
  },
  {
   "cell_type": "code",
   "execution_count": null,
   "id": "99805530-e24e-40b2-a912-83f1ed6fa3e4",
   "metadata": {},
   "outputs": [],
   "source": [
    "How would you write a regex that matches the full name of someone whose last name is\n",
    "Watanabe? You can assume that the first name that comes before it will always be one word that\n",
    "begins with a capital letter. The regex must match the following:\n",
    "&#39;Haruto Watanabe&#39;\n",
    "&#39;Alice Watanabe&#39;\n",
    "&#39;RoboCop Watanabe&#39;\n",
    "but not the following:\n",
    "&#39;haruto Watanabe&#39; (where the first name is not capitalized)\n",
    "&#39;Mr. Watanabe&#39; (where the preceding word has a nonletter character)\n",
    "&#39;Watanabe&#39; (which has no first name)\n",
    "&#39;Haruto watanabe&#39; (where Watanabe is not capitalized)\n",
    "Sol:\n",
    "    import re\n",
    "\n",
    "regex = re.compile(r'[A-Z][a-z]*\\sWatanabe')\n"
   ]
  },
  {
   "cell_type": "code",
   "execution_count": null,
   "id": "75cc8d70-42f8-4a51-9d20-5898fb699778",
   "metadata": {},
   "outputs": [],
   "source": [
    "How would you write a regex that matches a sentence where the first word is either Alice, Bob,\n",
    "or Carol; the second word is either eats, pets, or throws; the third word is apples, cats, or baseballs;\n",
    "and the sentence ends with a period? This regex should be case-insensitive. It must match the\n",
    "following:\n",
    "&#39;Alice eats apples.&#39;\n",
    "&#39;Bob pets cats.&#39;\n",
    "&#39;Carol throws baseballs.&#39;\n",
    "&#39;Alice throws Apples.&#39;\n",
    "&#39;BOB EATS CATS.&#39;\n",
    "but not the following:\n",
    "&#39;RoboCop eats apples.&#39;\n",
    "&#39;ALICE THROWS FOOTBALLS.&#39;\n",
    "&#39;Carol eats 7 cats.&#39;"
   ]
  }
 ],
 "metadata": {
  "kernelspec": {
   "display_name": "Python 3 (ipykernel)",
   "language": "python",
   "name": "python3"
  },
  "language_info": {
   "codemirror_mode": {
    "name": "ipython",
    "version": 3
   },
   "file_extension": ".py",
   "mimetype": "text/x-python",
   "name": "python",
   "nbconvert_exporter": "python",
   "pygments_lexer": "ipython3",
   "version": "3.10.6"
  }
 },
 "nbformat": 4,
 "nbformat_minor": 5
}
