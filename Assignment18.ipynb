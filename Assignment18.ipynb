{
 "cells": [
  {
   "cell_type": "markdown",
   "id": "bfd482b4-cece-4cae-9e02-940e0fab6fc0",
   "metadata": {},
   "source": [
    "1. Create a zoo.py file first. Define the hours() function, which prints the string &#39;Open 9-5 daily&#39;.\n",
    "Then, use the interactive interpreter to import the zoo module and call its hours() function."
   ]
  },
  {
   "cell_type": "code",
   "execution_count": null,
   "id": "4242b494-e26a-4d05-9ec3-c94b28632ac1",
   "metadata": {},
   "outputs": [],
   "source": [
    "Sol:"
   ]
  },
  {
   "cell_type": "code",
   "execution_count": 1,
   "id": "35fc9e36-b25e-4a83-8572-9a3812ae18a8",
   "metadata": {},
   "outputs": [],
   "source": [
    "import zoo"
   ]
  },
  {
   "cell_type": "code",
   "execution_count": 2,
   "id": "bb704ade-f5ad-4cc0-abe6-69455bf74761",
   "metadata": {},
   "outputs": [
    {
     "name": "stdout",
     "output_type": "stream",
     "text": [
      "Open9-5 daily\n"
     ]
    }
   ],
   "source": [
    "zoo.hours()"
   ]
  },
  {
   "cell_type": "code",
   "execution_count": null,
   "id": "05806fb3-ac6b-44b4-a4f9-0c6f9071d424",
   "metadata": {},
   "outputs": [],
   "source": [
    "Q2.In the interactive interpreter, import the zoo module as menagerie and call its hours() function."
   ]
  },
  {
   "cell_type": "code",
   "execution_count": null,
   "id": "9fe57269-3a19-4698-aabf-86b9e9cac7f2",
   "metadata": {},
   "outputs": [],
   "source": [
    "Sol:    "
   ]
  },
  {
   "cell_type": "code",
   "execution_count": 3,
   "id": "a3392551-695b-4db2-af89-3f8c5b2a1cc1",
   "metadata": {},
   "outputs": [
    {
     "name": "stdout",
     "output_type": "stream",
     "text": [
      "Open9-5 daily\n"
     ]
    }
   ],
   "source": [
    "import zoo as menagerie\n",
    "menagerie.hours()"
   ]
  },
  {
   "cell_type": "code",
   "execution_count": null,
   "id": "32ee41a6-71e1-4bae-b6d5-b19e2e2f35c2",
   "metadata": {},
   "outputs": [],
   "source": [
    "Q3. Using the interpreter, explicitly import and call the hours() function from zoo.\n",
    "Sol:"
   ]
  },
  {
   "cell_type": "code",
   "execution_count": 8,
   "id": "d7b31058-d4f1-45fb-bbb4-1fa28196b688",
   "metadata": {},
   "outputs": [
    {
     "name": "stdout",
     "output_type": "stream",
     "text": [
      "Open9-5 daily\n"
     ]
    }
   ],
   "source": [
    "from zoo import hours\n",
    "hours()"
   ]
  },
  {
   "cell_type": "code",
   "execution_count": null,
   "id": "5b5967a7-a095-440b-9811-53d7f629fe59",
   "metadata": {},
   "outputs": [],
   "source": [
    "Q4. Import the hours() function as info and call it.\n",
    "Sol:"
   ]
  },
  {
   "cell_type": "code",
   "execution_count": 9,
   "id": "acbdcc74-2673-4e8a-a05d-1e7a084b55a4",
   "metadata": {},
   "outputs": [
    {
     "name": "stdout",
     "output_type": "stream",
     "text": [
      "Open9-5 daily\n"
     ]
    }
   ],
   "source": [
    "from zoo import hours as info\n",
    "info()"
   ]
  },
  {
   "cell_type": "markdown",
   "id": "26f1bcdc-1655-4e29-888a-71ac93bc044d",
   "metadata": {},
   "source": [
    "5. Create a plain dictionary with the key-value pairs &#39;a&#39;: 1, &#39;b&#39;: 2, and &#39;c&#39;: 3, and print it out.\n",
    "Sol:"
   ]
  },
  {
   "cell_type": "code",
   "execution_count": 12,
   "id": "37bb973e-349c-4a2a-b58b-ce4a12b77fc2",
   "metadata": {},
   "outputs": [
    {
     "data": {
      "text/plain": [
       "{'a': 1, 'b': 2, 'c': 3}"
      ]
     },
     "execution_count": 12,
     "metadata": {},
     "output_type": "execute_result"
    }
   ],
   "source": [
    "dict={'a':1,'b':2,'c':3}\n",
    "dict"
   ]
  },
  {
   "cell_type": "code",
   "execution_count": null,
   "id": "e9f7a9b0-0a1f-443a-9dbc-b1c0c8ae20b2",
   "metadata": {},
   "outputs": [],
   "source": [
    "6.Make an OrderedDict called fancy from the same pairs listed in 5 and print it. Did it print in the\n",
    "same order as plain?\n",
    "Sol:"
   ]
  },
  {
   "cell_type": "code",
   "execution_count": 16,
   "id": "d7b533bd-df60-49b7-afa7-71705d10692b",
   "metadata": {},
   "outputs": [
    {
     "data": {
      "text/plain": [
       "OrderedDict([('a', 1), ('b', 2), ('c', 3)])"
      ]
     },
     "execution_count": 16,
     "metadata": {},
     "output_type": "execute_result"
    }
   ],
   "source": [
    "from collections import OrderedDict\n",
    "fancy=OrderedDict(dict)\n",
    "fancy"
   ]
  },
  {
   "cell_type": "code",
   "execution_count": null,
   "id": "a250ce12-439c-4182-8c1a-74710a34a232",
   "metadata": {},
   "outputs": [],
   "source": [
    "Q7. Make a default dictionary called dict_of_lists and pass it the argument list. Make the list\n",
    "dict_of_lists[&#39;a&#39;] and append the value &#39;something for a&#39; to it in one assignment. Print\n",
    "dict_of_lists[&#39;a&#39;]."
   ]
  },
  {
   "cell_type": "code",
   "execution_count": null,
   "id": "caccc8e5-d2c9-44bf-92fc-db041e4d5c4f",
   "metadata": {},
   "outputs": [],
   "source": []
  }
 ],
 "metadata": {
  "kernelspec": {
   "display_name": "Python 3 (ipykernel)",
   "language": "python",
   "name": "python3"
  },
  "language_info": {
   "codemirror_mode": {
    "name": "ipython",
    "version": 3
   },
   "file_extension": ".py",
   "mimetype": "text/x-python",
   "name": "python",
   "nbconvert_exporter": "python",
   "pygments_lexer": "ipython3",
   "version": "3.10.6"
  }
 },
 "nbformat": 4,
 "nbformat_minor": 5
}
