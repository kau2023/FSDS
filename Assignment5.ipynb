{
 "cells": [
  {
   "cell_type": "code",
   "execution_count": null,
   "id": "0a7c7d7e",
   "metadata": {},
   "outputs": [],
   "source": [
    "1.What does an empty dictionary's code look like?\n",
    "Sol:"
   ]
  },
  {
   "cell_type": "code",
   "execution_count": 1,
   "id": "cc985dcf",
   "metadata": {},
   "outputs": [
    {
     "data": {
      "text/plain": [
       "{}"
      ]
     },
     "execution_count": 1,
     "metadata": {},
     "output_type": "execute_result"
    }
   ],
   "source": [
    "dict={}\n",
    "dict"
   ]
  },
  {
   "cell_type": "code",
   "execution_count": null,
   "id": "5525fd85",
   "metadata": {},
   "outputs": [],
   "source": [
    "2.What is the value of a dictionary value with the key 'foo' and the value 42?\n",
    "Sol:"
   ]
  },
  {
   "cell_type": "code",
   "execution_count": 3,
   "id": "7d6ce319",
   "metadata": {},
   "outputs": [
    {
     "data": {
      "text/plain": [
       "{42, 'foo'}"
      ]
     },
     "execution_count": 3,
     "metadata": {},
     "output_type": "execute_result"
    }
   ],
   "source": [
    "dict={'foo',42}\n",
    "dict"
   ]
  },
  {
   "cell_type": "code",
   "execution_count": null,
   "id": "aa9c402d",
   "metadata": {},
   "outputs": [],
   "source": [
    "3.What is the most significant distinction between a dictionary and a list?\n",
    "Sol:The elements in lists are indexed from 0 while in dictionary elements can have any indexes"
   ]
  },
  {
   "cell_type": "code",
   "execution_count": null,
   "id": "96abf1d0",
   "metadata": {},
   "outputs": [],
   "source": [
    "4.What happens if you try to access spam['foo'] if spam is {'bar': 100}?\n",
    "Sol:It gives an error"
   ]
  },
  {
   "cell_type": "code",
   "execution_count": null,
   "id": "247826a2",
   "metadata": {},
   "outputs": [],
   "source": [
    "5. If a dictionary is stored in spam, what is the difference between the expressions 'cat' in spam and 'cat' in spam.keys()?\n",
    "Sol:cat in spam checks whether there is any key with name cat in the dictionary while cat in spam.keys() checks\n",
    "    whether there is a  'cat' key in the dictionary"
   ]
  },
  {
   "cell_type": "code",
   "execution_count": null,
   "id": "20fa51de",
   "metadata": {},
   "outputs": [],
   "source": [
    "6.If a dictionary is stored in spam, what is the difference between the expressions 'cat' in spam and 'cat' in spam.values()?"
   ]
  },
  {
   "cell_type": "code",
   "execution_count": null,
   "id": "3d08e155",
   "metadata": {},
   "outputs": [],
   "source": [
    "Sol:cat in spam checks whether there is any key with name cat in the dictionary while cat in spam.values() checks\n",
    "    whether there is a  'cat' value in the dictionary"
   ]
  },
  {
   "cell_type": "code",
   "execution_count": null,
   "id": "59292fe0",
   "metadata": {},
   "outputs": [],
   "source": [
    "7.What is a shortcut for the following code?"
   ]
  },
  {
   "cell_type": "code",
   "execution_count": null,
   "id": "205516bf",
   "metadata": {},
   "outputs": [],
   "source": [
    "spam ={'cat':100}\n",
    "spam.setdefault('color','black')\n",
    "spam"
   ]
  },
  {
   "cell_type": "code",
   "execution_count": null,
   "id": "6628437c",
   "metadata": {},
   "outputs": [],
   "source": [
    "Sol:spam={'cat':'100','color':black}"
   ]
  },
  {
   "cell_type": "code",
   "execution_count": null,
   "id": "55e6efbd",
   "metadata": {},
   "outputs": [],
   "source": [
    "8.How do you 'pretty print' dictionary values using which module and function?\n",
    "Sol:\n",
    "    \n",
    "     "
   ]
  },
  {
   "cell_type": "code",
   "execution_count": null,
   "id": "c4a6db51",
   "metadata": {},
   "outputs": [],
   "source": [
    "import pprint\n",
    "dct = [ {'Name': 'Shiva', 'Age': '23', 'Country': 'India'},\n",
    "  {'Name': 'Anna', 'Age': '44', 'Country': 'China'},\n",
    "  {'Name': 'Joe', 'Age': '29', 'Country': 'UK'},\n",
    "  {'Name': 'Chumlee', 'Age': '35', 'Country': 'USA'}\n",
    "]"
   ]
  }
 ],
 "metadata": {
  "kernelspec": {
   "display_name": "Python 3 (ipykernel)",
   "language": "python",
   "name": "python3"
  },
  "language_info": {
   "codemirror_mode": {
    "name": "ipython",
    "version": 3
   },
   "file_extension": ".py",
   "mimetype": "text/x-python",
   "name": "python",
   "nbconvert_exporter": "python",
   "pygments_lexer": "ipython3",
   "version": "3.7.11"
  }
 },
 "nbformat": 4,
 "nbformat_minor": 5
}
